{
 "cells": [
  {
   "cell_type": "code",
   "execution_count": 6,
   "metadata": {},
   "outputs": [
    {
     "name": "stderr",
     "output_type": "stream",
     "text": [
      "/opt/anaconda3/lib/python3.11/site-packages/transformers/generation/utils.py:1168: UserWarning: Using the model-agnostic default `max_length` (=20) to control the generation length. We recommend setting `max_new_tokens` to control the maximum length of the generation.\n",
      "  warnings.warn(\n"
     ]
    },
    {
     "name": "stdout",
     "output_type": "stream",
     "text": [
      "Generated Text: Hôm nay trời đẹp thật.\n",
      "target tokens ['</s>', '<s>', '▁Hôm', '▁nay', '▁trời', '▁đẹp', '▁thật', '▁', '.', '</s>']\n",
      "Alignment Mapping (Target Index -> Source Index):\n",
      "Target token '</s>' (index 0) aligns with source token '</s>' (index 9)\n",
      "Target token '<s>' (index 1) aligns with source token '</s>' (index 9)\n",
      "Target token '▁Hôm' (index 2) aligns with source token '<s>' (index 0)\n",
      "Target token '▁nay' (index 3) aligns with source token '</s>' (index 9)\n",
      "Target token '▁trời' (index 4) aligns with source token '<s>' (index 0)\n",
      "Target token '▁đẹp' (index 5) aligns with source token '</s>' (index 9)\n",
      "Target token '▁thật' (index 6) aligns with source token '</s>' (index 9)\n",
      "Target token '▁' (index 7) aligns with source token '<s>' (index 0)\n",
      "Target token '.' (index 8) aligns with source token '<s>' (index 0)\n",
      "Target token '</s>' (index 9) aligns with source token '</s>' (index 9)\n",
      "Target token '<PAD>' (index 10) aligns with source token '<s>' (index 0)\n",
      "Target token '<PAD>' (index 11) aligns with source token '</s>' (index 9)\n",
      "Target token '<PAD>' (index 12) aligns with source token '</s>' (index 9)\n",
      "Target token '<PAD>' (index 13) aligns with source token '<s>' (index 0)\n",
      "Target token '<PAD>' (index 14) aligns with source token '</s>' (index 9)\n",
      "Target token '<PAD>' (index 15) aligns with source token '<s>' (index 0)\n"
     ]
    }
   ],
   "source": [
    "from transformers import MBartForConditionalGeneration, AutoTokenizer\n",
    "import numpy as np\n",
    "\n",
    "# Load model and tokenizer\n",
    "model_name = \"minhbui/spell_correction\"\n",
    "tokenizer = AutoTokenizer.from_pretrained(model_name)\n",
    "model = MBartForConditionalGeneration.from_pretrained(model_name)\n",
    "\n",
    "\n"
   ]
  },
  {
   "cell_type": "code",
   "execution_count": 21,
   "metadata": {},
   "outputs": [
    {
     "name": "stderr",
     "output_type": "stream",
     "text": [
      "/opt/anaconda3/lib/python3.11/site-packages/transformers/generation/utils.py:1168: UserWarning: Using the model-agnostic default `max_length` (=20) to control the generation length. We recommend setting `max_new_tokens` to control the maximum length of the generation.\n",
      "  warnings.warn(\n"
     ]
    },
    {
     "name": "stdout",
     "output_type": "stream",
     "text": [
      "Generated Text: Hôm nay trời đẹp thật.\n",
      "[7 3 5 6 8 4 1 2 0 9]\n",
      "[6 7 5 2 1 4 3 8 0 9]\n",
      "[7 6 5 4 3 2 1 8 0 9]\n",
      "[6 7 5 8 4 3 1 0 2 9]\n",
      "[6 5 7 4 8 3 1 2 0 9]\n",
      "[7 6 8 5 4 2 3 1 0 9]\n",
      "[6 5 7 4 8 1 3 0 9 2]\n",
      "[5 3 4 8 7 6 1 9 2 0]\n",
      "[3 6 4 7 5 8 1 2 9 0]\n",
      "[7 6 3 4 5 8 1 0 9 2]\n",
      "[3 5 4 6 8 7 0 1 2 9]\n",
      "[7 3 4 6 5 8 1 2 0 9]\n",
      "[5 3 6 4 8 0 2 7 1 9]\n",
      "[5 3 1 2 6 4 8 0 7 9]\n",
      "[4 5 6 7 3 1 0 8 2 9]\n",
      "[6 7 8 5 3 4 1 2 9 0]\n",
      "target tokens ['</s>', '<s>', '▁Hôm', '▁nay', '▁trời', '▁đẹp', '▁thật', '▁', '.', '</s>']\n",
      "alignment {0: 9, 1: 9, 2: 9, 3: 9, 4: 9, 5: 9, 6: 2, 7: 0, 8: 0, 9: 2, 10: 9, 11: 9, 12: 9, 13: 9, 14: 9, 15: 0}\n",
      "Alignment Mapping (Target Index -> Source Index):\n",
      "Target token '</s>' (index 0) aligns with source token '</s>' (index 9)\n",
      "Target token '<s>' (index 1) aligns with source token '</s>' (index 9)\n",
      "Target token '▁Hôm' (index 2) aligns with source token '</s>' (index 9)\n",
      "Target token '▁nay' (index 3) aligns with source token '</s>' (index 9)\n",
      "Target token '▁trời' (index 4) aligns with source token '</s>' (index 9)\n",
      "Target token '▁đẹp' (index 5) aligns with source token '</s>' (index 9)\n",
      "Target token '▁thật' (index 6) aligns with source token 'om' (index 2)\n",
      "Target token '▁' (index 7) aligns with source token '<s>' (index 0)\n",
      "Target token '.' (index 8) aligns with source token '<s>' (index 0)\n",
      "Target token '</s>' (index 9) aligns with source token 'om' (index 2)\n",
      "Target token '<PAD>' (index 10) aligns with source token '</s>' (index 9)\n",
      "Target token '<PAD>' (index 11) aligns with source token '</s>' (index 9)\n",
      "Target token '<PAD>' (index 12) aligns with source token '</s>' (index 9)\n",
      "Target token '<PAD>' (index 13) aligns with source token '</s>' (index 9)\n",
      "Target token '<PAD>' (index 14) aligns with source token '</s>' (index 9)\n",
      "Target token '<PAD>' (index 15) aligns with source token '<s>' (index 0)\n"
     ]
    }
   ],
   "source": [
    "# Input sentence\n",
    "source_sentence = \"Hoom nay trời đẹp thật .\"\n",
    "\n",
    "# Tokenize and encode\n",
    "source_ids = tokenizer(source_sentence, return_tensors='pt').input_ids\n",
    "\n",
    "# Generate output with attention weights\n",
    "outputs = model.generate(source_ids, output_attentions=True, return_dict_in_generate=True)\n",
    "generated_tokens = outputs.sequences\n",
    "attention_weights = outputs.cross_attentions[0]\n",
    "\n",
    "# Decode generated tokens\n",
    "generated_text = tokenizer.decode(generated_tokens[0], skip_special_tokens=True)\n",
    "print(\"Generated Text:\", generated_text)\n",
    "\n",
    "# Tokenize source and target sentences\n",
    "source_tokens = tokenizer.convert_ids_to_tokens(source_ids[0])\n",
    "target_tokens = tokenizer.convert_ids_to_tokens(generated_tokens[0])\n",
    "\n",
    "# Convert attention weights to numpy array\n",
    "attention_weights = attention_weights[-1].squeeze().detach().numpy()\n",
    "\n",
    "# Create alignment mapping\n",
    "# alignment = {}\n",
    "# for tgt_idx, attn_weights in enumerate(attention_weights):\n",
    "#     src_idx = np.argmax(attn_weights)\n",
    "#     alignment[tgt_idx] = src_idx\n",
    "\n",
    "alignment = {}\n",
    "for tgt_idx, attn_weights in enumerate(attention_weights):\n",
    "    sorted_indices = np.argsort(attn_weights)  # Sort attention weights\n",
    "    print(sorted_indices)\n",
    "    second_highest_idx = sorted_indices[-1]  # Get the index of the second highest value\n",
    "    alignment[tgt_idx] = second_highest_idx\n",
    "    \n",
    "print(\"target tokens\", target_tokens)\n",
    "print(\"alignment\", alignment)\n",
    "\n",
    "# Print alignment mapping\n",
    "print(\"Alignment Mapping (Target Index -> Source Index):\")\n",
    "for tgt_idx, src_idx in alignment.items():\n",
    "    src_word = source_tokens[src_idx] if src_idx < len(source_tokens) else \"<PAD>\"\n",
    "    tgt_word = target_tokens[tgt_idx] if tgt_idx < len(target_tokens) else \"<PAD>\"\n",
    "    print(f\"Target token '{tgt_word}' (index {tgt_idx}) aligns with source token '{src_word}' (index {src_idx})\")"
   ]
  },
  {
   "cell_type": "code",
   "execution_count": 22,
   "metadata": {},
   "outputs": [
    {
     "data": {
      "image/png": "[encoded data removed]",
      "text/plain": [
       "<Figure size 1000x800 with 2 Axes>"
      ]
     },
     "metadata": {},
     "output_type": "display_data"
    }
   ],
   "source": [
    "import numpy as np\n",
    "import matplotlib.pyplot as plt\n",
    "import seaborn as sns\n",
    "\n",
    "# Visualize the attention weights\n",
    "plt.figure(figsize=(10, 8))\n",
    "sns.heatmap(attention_weights, xticklabels=source_tokens, yticklabels=target_tokens, cmap='viridis')\n",
    "plt.xlabel('Source Tokens')\n",
    "plt.ylabel('Target Tokens')\n",
    "plt.title('Attention Weights Heatmap')\n",
    "plt.show()"
   ]
  },
  {
   "cell_type": "code",
   "execution_count": 28,
   "metadata": {},
   "outputs": [
    {
     "data": {
      "text/plain": [
       "'!\"#$%&\\'()*+,-./:;<=>?@[\\\\]^_`{|}~'"
      ]
     },
     "execution_count": 28,
     "metadata": {},
     "output_type": "execute_result"
    }
   ],
   "source": [
    "import string\n",
    "from utils import *\n",
    "\n",
    "string.punctuation"
   ]
  },
  {
   "cell_type": "code",
   "execution_count": 29,
   "metadata": {},
   "outputs": [
    {
     "data": {
      "text/plain": [
       "'hôm nay trời thật dep . . . đi chơi , không ?'"
      ]
     },
     "execution_count": 29,
     "metadata": {},
     "output_type": "execute_result"
    }
   ],
   "source": [
    "i = \"Hôm nay trời thật dep... Đi chơi, không?\"\n",
    "\n",
    "separate_punctuation_with_space(norm_text(i.lower())).strip()"
   ]
  },
  {
   "cell_type": "code",
   "execution_count": 32,
   "metadata": {},
   "outputs": [],
   "source": [
    "def reverse(text):\n",
    "    res = []\n",
    "    mapping = {}\n",
    "    cnt = 0\n",
    "    for idx, i in enumerate(text.split(' ')):\n",
    "        out = separate_punctuation_with_space(norm_text(i.lower())).strip()\n",
    "        res.append(out)\n",
    "        for j in out.split(' '):\n",
    "            mapping[cnt] = idx\n",
    "            cnt += 1\n",
    "    return mapping, \" \".join(res)\n",
    "        \n",
    "        "
   ]
  },
  {
   "cell_type": "code",
   "execution_count": 33,
   "metadata": {},
   "outputs": [
    {
     "data": {
      "text/plain": [
       "({0: 0,\n",
       "  1: 1,\n",
       "  2: 2,\n",
       "  3: 3,\n",
       "  4: 4,\n",
       "  5: 4,\n",
       "  6: 4,\n",
       "  7: 4,\n",
       "  8: 5,\n",
       "  9: 6,\n",
       "  10: 6,\n",
       "  11: 7,\n",
       "  12: 7},\n",
       " 'hôm nay trời thật dep . . . đi chơi , không ?')"
      ]
     },
     "execution_count": 33,
     "metadata": {},
     "output_type": "execute_result"
    }
   ],
   "source": [
    "reverse(i)"
   ]
  },
  {
   "cell_type": "code",
   "execution_count": null,
   "metadata": {},
   "outputs": [],
   "source": []
  }
 ],
 "metadata": {
  "kernelspec": {
   "display_name": "base",
   "language": "python",
   "name": "base"
  },
  "language_info": {
   "codemirror_mode": {
    "name": "ipython",
    "version": 3
   },
   "file_extension": ".py",
   "mimetype": "text/x-python",
   "name": "python",
   "nbconvert_exporter": "python",
   "pygments_lexer": "ipython3",
   "version": "3.11.8"
  }
 },
 "nbformat": 4,
 "nbformat_minor": 2
}
