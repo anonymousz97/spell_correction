{
 "cells": [
  {
   "cell_type": "code",
   "execution_count": 1,
   "id": "df8eb4a3-db0f-4aa0-88e4-e22e2c7ed709",
   "metadata": {},
   "outputs": [],
   "source": [
    "from tokenizers import Tokenizer\n",
    "from tokenizers.models import BPE\n",
    "tokenizer = Tokenizer(BPE(unk_token=\"[UNK]\"))"
   ]
  },
  {
   "cell_type": "code",
   "execution_count": 27,
   "id": "a32e7244-8d13-4f02-aa8a-22c505ddd7f0",
   "metadata": {},
   "outputs": [],
   "source": [
    "from tokenizers.trainers import BpeTrainer\n",
    "trainer = BpeTrainer(special_tokens=[\"[UNK]\", \"[CLS]\", \"[SEP]\", \"[PAD]\", \"[MASK]\"], show_progress=True, continuing_subword_prefix=\"###\")"
   ]
  },
  {
   "cell_type": "code",
   "execution_count": 28,
   "id": "a934a48e-575c-4e28-8163-babca1b7ccfc",
   "metadata": {},
   "outputs": [],
   "source": [
    "from tokenizers.pre_tokenizers import Whitespace\n",
    "tokenizer.pre_tokenizer = Whitespace()"
   ]
  },
  {
   "cell_type": "code",
   "execution_count": 29,
   "id": "e47868f8-a46b-43b3-a928-1a72e7ebef1f",
   "metadata": {},
   "outputs": [
    {
     "name": "stdout",
     "output_type": "stream",
     "text": [
      "\n",
      "\n",
      "\n"
     ]
    }
   ],
   "source": [
    "files = ['/home/ubuntu/spell/corpus-full.txt']\n",
    "tokenizer.train(files, trainer)"
   ]
  },
  {
   "cell_type": "code",
   "execution_count": 30,
   "id": "c3b50277-0e95-4bb2-aa77-882cdebff981",
   "metadata": {},
   "outputs": [],
   "source": [
    "tokenizer.save(\"trained_tokenizer.json\")"
   ]
  },
  {
   "cell_type": "code",
   "execution_count": 31,
   "id": "549e7906-2ef6-4ff8-8036-a9386e7e9767",
   "metadata": {},
   "outputs": [],
   "source": [
    "tokenizer = Tokenizer.from_file(\"trained_tokenizer.json\")"
   ]
  },
  {
   "cell_type": "code",
   "execution_count": 35,
   "id": "180fd3c8-4842-425c-abeb-a387a09d5d72",
   "metadata": {},
   "outputs": [],
   "source": [
    "output = tokenizer.encode(\"Hỏng hết cả bánh kẹo rồi?\")"
   ]
  },
  {
   "cell_type": "code",
   "execution_count": 36,
   "id": "a2c89fa0-f9c2-4424-8569-e54e75880d9c",
   "metadata": {},
   "outputs": [
    {
     "data": {
      "text/plain": [
       "['[CLS]', 'H', '###ỏng', 'hết', 'cả', 'bánh', 'kẹo', 'rồi', '?', '[SEP]']"
      ]
     },
     "execution_count": 36,
     "metadata": {},
     "output_type": "execute_result"
    }
   ],
   "source": [
    "output.tokens"
   ]
  },
  {
   "cell_type": "code",
   "execution_count": 37,
   "id": "ba3d6d11-8b84-46b8-ac31-198fc9f00935",
   "metadata": {},
   "outputs": [
    {
     "data": {
      "text/plain": [
       "[1, 43, 6359, 5753, 5255, 6695, 9544, 5781, 34, 2]"
      ]
     },
     "execution_count": 37,
     "metadata": {},
     "output_type": "execute_result"
    }
   ],
   "source": [
    "output.ids"
   ]
  },
  {
   "cell_type": "code",
   "execution_count": 22,
   "id": "49e81ae8-3513-48af-ad09-251574911b7e",
   "metadata": {},
   "outputs": [
    {
     "data": {
      "text/plain": [
       "2"
      ]
     },
     "execution_count": 22,
     "metadata": {},
     "output_type": "execute_result"
    }
   ],
   "source": [
    "tokenizer.token_to_id(\"[SEP]\")"
   ]
  },
  {
   "cell_type": "code",
   "execution_count": 23,
   "id": "90ba6bac-1445-4450-9e07-5598cf14f899",
   "metadata": {},
   "outputs": [],
   "source": [
    "from tokenizers.processors import TemplateProcessing\n",
    "tokenizer.post_processor = TemplateProcessing(\n",
    "    single=\"[CLS] $A [SEP]\",\n",
    "    pair=\"[CLS] $A [SEP] $B:1 [SEP]:1\",\n",
    "    special_tokens=[\n",
    "        (\"[CLS]\", tokenizer.token_to_id(\"[CLS]\")),\n",
    "        (\"[SEP]\", tokenizer.token_to_id(\"[SEP]\")),\n",
    "    ],\n",
    ")"
   ]
  },
  {
   "cell_type": "code",
   "execution_count": 38,
   "id": "d2f23410-16c3-42ad-a588-fcec1ee0fdd1",
   "metadata": {},
   "outputs": [
    {
     "data": {
      "text/plain": [
       "30000"
      ]
     },
     "execution_count": 38,
     "metadata": {},
     "output_type": "execute_result"
    }
   ],
   "source": [
    "tokenizer.get_vocab_size()"
   ]
  }
 ],
 "metadata": {
  "kernelspec": {
   "display_name": "Python 3 (ipykernel)",
   "language": "python",
   "name": "python3"
  },
  "language_info": {
   "codemirror_mode": {
    "name": "ipython",
    "version": 3
   },
   "file_extension": ".py",
   "mimetype": "text/x-python",
   "name": "python",
   "nbconvert_exporter": "python",
   "pygments_lexer": "ipython3",
   "version": "3.11.5"
  }
 },
 "nbformat": 4,
 "nbformat_minor": 5
}
