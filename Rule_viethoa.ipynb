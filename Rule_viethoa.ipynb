{
 "cells": [
  {
   "cell_type": "code",
   "execution_count": 3,
   "id": "438838da-fe56-44d0-98de-18e29e86dcad",
   "metadata": {},
   "outputs": [],
   "source": [
    "import os\n",
    "import json\n",
    "from tqdm.notebook import tqdm\n",
    "import unicodedata"
   ]
  },
  {
   "cell_type": "code",
   "execution_count": 4,
   "id": "a6a0a577-6bee-43bd-80b8-030d3e4ef7e6",
   "metadata": {},
   "outputs": [],
   "source": [
    "with open(\"Data/boy.txt\",\"r\") as f:\n",
    "    boy = unicodedata.normalize(\"NFC\",f.read()).split(\"\\n\")\n",
    "\n",
    "with open(\"Data/girl.txt\",\"r\") as f:\n",
    "    girl = unicodedata.normalize(\"NFC\",f.read()).split(\"\\n\")\n",
    "\n",
    "with open(\"Data/data.json\",\"r\") as f:\n",
    "    hoten = json.load(f)"
   ]
  },
  {
   "cell_type": "code",
   "execution_count": 5,
   "id": "a0cacb59-15e7-41ba-8efe-eb8eee08b7e1",
   "metadata": {
    "scrolled": true
   },
   "outputs": [],
   "source": [
    "ho = list(set([unicodedata.normalize(\"NFC\",x['last_name_group']) for x in hoten]))"
   ]
  },
  {
   "cell_type": "code",
   "execution_count": 14,
   "id": "4c3f55e1-3076-4cc5-a4eb-56db21db278f",
   "metadata": {},
   "outputs": [
    {
     "data": {
      "application/vnd.jupyter.widget-view+json": {
       "model_id": "9b2955f71b5a4c38b8a37b902aa29892",
       "version_major": 2,
       "version_minor": 0
      },
      "text/plain": [
       "  0%|          | 0/8795 [00:00<?, ?it/s]"
      ]
     },
     "metadata": {},
     "output_type": "display_data"
    }
   ],
   "source": [
    "name = boy + girl\n",
    "for i in tqdm(hoten):\n",
    "    name.append(' '.join(x for x in i['full_name'].split(\" \")[-2:]))\n",
    "name.remove(\"\")\n"
   ]
  },
  {
   "cell_type": "code",
   "execution_count": 15,
   "id": "9cea314e-845a-48ce-9805-0231f518eca6",
   "metadata": {},
   "outputs": [
    {
     "data": {
      "text/plain": [
       "True"
      ]
     },
     "execution_count": 15,
     "metadata": {},
     "output_type": "execute_result"
    }
   ],
   "source": [
    "\"\" in name"
   ]
  },
  {
   "cell_type": "code",
   "execution_count": 16,
   "id": "5ec596a1-157a-4c2a-909c-b9d3ea59bbab",
   "metadata": {},
   "outputs": [],
   "source": [
    "name.remove(\"\")"
   ]
  },
  {
   "cell_type": "code",
   "execution_count": 17,
   "id": "e8cc423f-3ae2-4783-a543-d9c73c22efbe",
   "metadata": {},
   "outputs": [
    {
     "data": {
      "text/plain": [
       "str"
      ]
     },
     "execution_count": 17,
     "metadata": {},
     "output_type": "execute_result"
    }
   ],
   "source": [
    "type(name[0])"
   ]
  },
  {
   "cell_type": "code",
   "execution_count": 18,
   "id": "5f7c27d0-9a89-435e-95ae-c0ab1cedfbd0",
   "metadata": {},
   "outputs": [
    {
     "data": {
      "text/plain": [
       "True"
      ]
     },
     "execution_count": 18,
     "metadata": {},
     "output_type": "execute_result"
    }
   ],
   "source": [
    "\"Anh Đức\" in name"
   ]
  },
  {
   "cell_type": "code",
   "execution_count": 19,
   "id": "85d49b45-7da7-4a89-90db-ba6e9d627b09",
   "metadata": {},
   "outputs": [
    {
     "data": {
      "text/plain": [
       "4327"
      ]
     },
     "execution_count": 19,
     "metadata": {},
     "output_type": "execute_result"
    }
   ],
   "source": [
    "name.index(\"Anh Đức\")"
   ]
  },
  {
   "cell_type": "code",
   "execution_count": 20,
   "id": "8dd37c5e-b0b8-4856-837b-fbc8c8c93a70",
   "metadata": {},
   "outputs": [],
   "source": [
    "import json\n",
    "\n",
    "with open(\"./Data/sorted.json\",\"r\") as f:\n",
    "    provinces = json.load(f)"
   ]
  },
  {
   "cell_type": "code",
   "execution_count": 21,
   "id": "14cfa906-dca7-40ed-92c5-55a09a00ac14",
   "metadata": {
    "scrolled": true
   },
   "outputs": [
    {
     "data": {
      "text/plain": [
       "[['213',\n",
       "  'Bắc Giang',\n",
       "  'Thành phố',\n",
       "  'Bac Giang',\n",
       "  [['07228', 'Đa Mai', 'Phường', 'Da Mai'],\n",
       "   ['07231', 'Dĩnh Kế', 'Phường', 'Dinh Ke'],\n",
       "   ['07441', 'Dĩnh Trì', 'Xã', 'Dinh Tri'],\n",
       "   ['07696', 'Đồng Sơn', 'Xã', 'Dong Son'],\n",
       "   ['07210', 'Hoàng Văn Thụ', 'Phường', 'Hoang Van Thu'],\n",
       "   ['07219', 'Lê Lợi', 'Phường', 'Le Loi'],\n",
       "   ['07216', 'Mỹ Độ', 'Phường', 'My Do'],\n",
       "   ['07207', 'Ngô Quyền', 'Phường', 'Ngo Quyen'],\n",
       "   ['07705', 'Song Khê', 'Xã', 'Song Khe'],\n",
       "   ['07222', 'Song Mai', 'Xã', 'Song Mai'],\n",
       "   ['07687', 'Tân Mỹ', 'Xã', 'Tan My'],\n",
       "   ['07699', 'Tân Tiến', 'Xã', 'Tan Tien'],\n",
       "   ['07201', 'Thọ Xương', 'Phường', 'Tho Xuong'],\n",
       "   ['07204', 'Trần Nguyên Hãn', 'Phường', 'Tran Nguyen Han'],\n",
       "   ['07213', 'Trần Phú', 'Phường', 'Tran Phu'],\n",
       "   ['07225', 'Xương Giang', 'Phường', 'Xuong Giang']]],\n",
       " ['223',\n",
       "  'Hiệp Hòa',\n",
       "  'Huyện',\n",
       "  'Hiep Hoa',\n",
       "  [['07870', 'Bắc Lý', 'Thị trấn', 'Bac Ly'],\n",
       "   ['07882', 'Châu Minh', 'Xã', 'Chau Minh'],\n",
       "   ['07852', 'Đại Thành', 'Xã', 'Dai Thanh'],\n",
       "   ['07861', 'Danh Thắng', 'Xã', 'Danh Thang'],\n",
       "   ['07867', 'Đoan Bái', 'Xã', 'Doan Bai'],\n",
       "   ['07879', 'Đông Lỗ', 'Xã', 'Dong Lo'],\n",
       "   ['07813', 'Đồng Tân', 'Xã', 'Dong Tan'],\n",
       "   ['07837', 'Hòa Sơn', 'Xã', 'Hoa Son'],\n",
       "   ['07828', 'Hoàng An', 'Xã', 'Hoang An'],\n",
       "   ['07819', 'Hoàng Lương', 'Xã', 'Hoang Luong'],\n",
       "   ['07825', 'Hoàng Thanh', 'Xã', 'Hoang Thanh'],\n",
       "   ['07822', 'Hoàng Vân', 'Xã', 'Hoang Van'],\n",
       "   ['07858', 'Hợp Thịnh', 'Xã', 'Hop Thinh'],\n",
       "   ['07849', 'Hùng Sơn', 'Xã', 'Hung Son'],\n",
       "   ['07876', 'Hương Lâm', 'Xã', 'Huong Lam'],\n",
       "   ['07846', 'Lương Phong', 'Xã', 'Luong Phong'],\n",
       "   ['07885', 'Mai Đình', 'Xã', 'Mai Dinh'],\n",
       "   ['07864', 'Mai Trung', 'Xã', 'Mai Trung'],\n",
       "   ['07831', 'Ngọc Sơn', 'Xã', 'Ngoc Son'],\n",
       "   ['07843', 'Quang Minh', 'Xã', 'Quang Minh'],\n",
       "   ['07834', 'Thái Sơn', 'Xã', 'Thai Son'],\n",
       "   ['07840', 'Thắng', 'Thị trấn', 'Thang'],\n",
       "   ['07816', 'Thanh Vân', 'Xã', 'Thanh Van'],\n",
       "   ['07855', 'Thường Thắng', 'Xã', 'Thuong Thang'],\n",
       "   ['07873', 'Xuân Cẩm', 'Xã', 'Xuan Cam']]],\n",
       " ['217',\n",
       "  'Lạng Giang',\n",
       "  'Huyện',\n",
       "  'Lang Giang',\n",
       "  [['07396', 'An Hà', 'Xã', 'An Ha'],\n",
       "   ['07435', 'Đại Lâm', 'Xã', 'Dai Lam'],\n",
       "   ['07390', 'Đào Mỹ', 'Xã', 'Dao My'],\n",
       "   ['07408', 'Dương Đức', 'Xã', 'Duong Duc'],\n",
       "   ['07405', 'Hương Lạc', 'Xã', 'Huong Lac'],\n",
       "   ['07387', 'Hương Sơn', 'Xã', 'Huong Son'],\n",
       "   ['07399', 'Kép', 'Thị trấn', 'Kep'],\n",
       "   ['07402', 'Mỹ Hà', 'Xã', 'My Ha'],\n",
       "   ['07420', 'Mỹ Thái', 'Xã', 'My Thai'],\n",
       "   ['07378', 'Nghĩa Hòa', 'Xã', 'Nghia Hoa'],\n",
       "   ['07381', 'Nghĩa Hưng', 'Xã', 'Nghia Hung'],\n",
       "   ['07384', 'Quang Thịnh', 'Xã', 'Quang Thinh'],\n",
       "   ['07432', 'Tân Dĩnh', 'Xã', 'Tan Dinh'],\n",
       "   ['07417', 'Tân Hưng', 'Xã', 'Tan Hung'],\n",
       "   ['07411', 'Tân Thanh', 'Xã', 'Tan Thanh'],\n",
       "   ['07438', 'Thái Đào', 'Xã', 'Thai Dao'],\n",
       "   ['07393', 'Tiên Lục', 'Xã', 'Tien Luc'],\n",
       "   ['07375', 'Vôi', 'Thị trấn', 'Voi'],\n",
       "   ['07429', 'Xuân Hương', 'Xã', 'Xuan Huong'],\n",
       "   ['07426', 'Xương Lâm', 'Xã', 'Xuong Lam'],\n",
       "   ['07414', 'Yên Mỹ', 'Xã', 'Yen My']]],\n",
       " ['218',\n",
       "  'Lục Nam',\n",
       "  'Huyện',\n",
       "  'Luc Nam',\n",
       "  [['07513', 'Bắc Lũng', 'Xã', 'Bac Lung'],\n",
       "   ['07462', 'Bảo Đài', 'Xã', 'Bao Dai'],\n",
       "   ['07459', 'Bảo Sơn', 'Xã', 'Bao Son'],\n",
       "   ['07492', 'Bình Sơn', 'Xã', 'Binh Son'],\n",
       "   ['07519', 'Cẩm Lý', 'Xã', 'Cam Ly'],\n",
       "   ['07480', 'Chu Điện', 'Xã', 'Chu Dien'],\n",
       "   ['07483', 'Cương Sơn', 'Xã', 'Cuong Son'],\n",
       "   ['07522', 'Đan Hội', 'Xã', 'Dan Hoi'],\n",
       "   ['07444', 'Đồi Ngô', 'Thị trấn', 'Doi Ngo'],\n",
       "   ['07450', 'Đông Hưng', 'Xã', 'Dong Hung'],\n",
       "   ['07453', 'Đông Phú', 'Xã', 'Dong Phu'],\n",
       "   ['07504', 'Huyền Sơn', 'Xã', 'Huyen Son'],\n",
       "   ['07501', 'Khám Lạng', 'Xã', 'Kham Lang'],\n",
       "   ['07495', 'Lan Mẫu', 'Xã', 'Lan Mau'],\n",
       "   ['07510', 'Lục Sơn', 'Xã', 'Luc Son'],\n",
       "   ['07486', 'Nghĩa Phương', 'Xã', 'Nghia Phuong'],\n",
       "   ['07477', 'Phương Sơn', 'Thị trấn', 'Phuong Son'],\n",
       "   ['07456', 'Tam Dị', 'Xã', 'Tam Di'],\n",
       "   ['07465', 'Thanh Lâm', 'Xã', 'Thanh Lam'],\n",
       "   ['07468', 'Tiên Nha', 'Xã', 'Tien Nha'],\n",
       "   ['07471', 'Trường Giang', 'Xã', 'Truong Giang'],\n",
       "   ['07507', 'Trường Sơn', 'Xã', 'Truong Son'],\n",
       "   ['07489', 'Vô Tranh', 'Xã', 'Vo Tranh'],\n",
       "   ['07516', 'Vũ Xá', 'Xã', 'Vu Xa'],\n",
       "   ['07498', 'Yên Sơn', 'Xã', 'Yen Son']]],\n",
       " ['219',\n",
       "  'Lục Ngạn',\n",
       "  'Huyện',\n",
       "  'Luc Ngan',\n",
       "  [['07573', 'Biển Động', 'Xã', 'Bien Dong'],\n",
       "   ['07555', 'Biên Sơn', 'Xã', 'Bien Son'],\n",
       "   ['07528', 'Cấm Sơn', 'Xã', 'Cam Son'],\n",
       "   ['07525', 'Chũ', 'Thị trấn', 'Chu'],\n",
       "   ['07609', 'Đèo Gia', 'Xã', 'Deo Gia'],\n",
       "   ['07591', 'Đồng Cốc', 'Xã', 'Dong Coc'],\n",
       "   ['07570', 'Giáp Sơn', 'Xã', 'Giap Son'],\n",
       "   ['07543', 'Hộ Đáp', 'Xã', 'Ho Dap'],\n",
       "   ['07561', 'Hồng Giang', 'Xã', 'Hong Giang'],\n",
       "   ['07552', 'Kiên Lao', 'Xã', 'Kien Lao'],\n",
       "   ['07558', 'Kiên Thành', 'Xã', 'Kien Thanh'],\n",
       "   ['07564', 'Kim Sơn', 'Xã', 'Kim Son'],\n",
       "   ['07600', 'Mỹ An', 'Xã', 'My An'],\n",
       "   ['07603', 'Nam Dương', 'Xã', 'Nam Duong'],\n",
       "   ['07582', 'Phì Điền', 'Xã', 'Phi Dien'],\n",
       "   ['07534', 'Phong Minh', 'Xã', 'Phong Minh'],\n",
       "   ['07537', 'Phong Vân', 'Xã', 'Phong Van'],\n",
       "   ['07597', 'Phú Nhuận', 'Xã', 'Phu Nhuan'],\n",
       "   ['07612', 'Phượng Sơn', 'Xã', 'Phuong Son'],\n",
       "   ['07576', 'Quý Sơn', 'Xã', 'Quy Son'],\n",
       "   ['07546', 'Sơn Hải', 'Xã', 'Son Hai'],\n",
       "   ['07567', 'Tân Hoa', 'Xã', 'Tan Hoa'],\n",
       "   ['07594', 'Tân Lập', 'Xã', 'Tan Lap'],\n",
       "   ['07606', 'Tân Mộc', 'Xã', 'Tan Moc'],\n",
       "   ['07588', 'Tân Quang', 'Xã', 'Tan Quang'],\n",
       "   ['07531', 'Tân Sơn', 'Xã', 'Tan Son'],\n",
       "   ['07549', 'Thanh Hải', 'Xã', 'Thanh Hai'],\n",
       "   ['07579', 'Trù Hựu', 'Xã', 'Tru Huu'],\n",
       "   ['07540', 'Xa Lý', 'Xã', 'Xa Ly']]],\n",
       " ['220',\n",
       "  'Sơn Động',\n",
       "  'Huyện',\n",
       "  'Son Dong',\n",
       "  [['07660', 'An Bá', 'Xã', 'An Ba'],\n",
       "   ['07615', 'An Châu', 'Thị trấn', 'An Chau'],\n",
       "   ['07645', 'An Lạc', 'Xã', 'An Lac'],\n",
       "   ['07642', 'Cẩm Đàn', 'Xã', 'Cam Dan'],\n",
       "   ['07627', 'Đại Sơn', 'Xã', 'Dai Son'],\n",
       "   ['07666', 'Dương Hưu', 'Xã', 'Duong Huu'],\n",
       "   ['07636', 'Giáo Liêm', 'Xã', 'Giao Liem'],\n",
       "   ['07624', 'Hữu Sản', 'Xã', 'Huu San'],\n",
       "   ['07654', 'Lệ Viễn', 'Xã', 'Le Vien'],\n",
       "   ['07672', 'Long Sơn', 'Xã', 'Long Son'],\n",
       "   ['07630', 'Phúc Sơn', 'Xã', 'Phuc Son'],\n",
       "   ['07616', 'Tây Yên Tử', 'Thị trấn', 'Tay Yen Tu'],\n",
       "   ['07678', 'Thanh Luận', 'Xã', 'Thanh Luan'],\n",
       "   ['07663', 'Tuấn Đạo', 'Xã', 'Tuan Dao'],\n",
       "   ['07621', 'Vân Sơn', 'Xã', 'Van Son'],\n",
       "   ['07648', 'Vĩnh An', 'Xã', 'Vinh An'],\n",
       "   ['07651', 'Yên Định', 'Xã', 'Yen Dinh']]],\n",
       " ['216',\n",
       "  'Tân Yên',\n",
       "  'Huyện',\n",
       "  'Tan Yen',\n",
       "  [['07321', 'An Dương', 'Xã', 'An Duong'],\n",
       "   ['07339', 'Cao Thượng', 'Thị trấn', 'Cao Thuong'],\n",
       "   ['07336', 'Cao Xá', 'Xã', 'Cao Xa'],\n",
       "   ['07312', 'Đại Hóa', 'Xã', 'Dai Hoa'],\n",
       "   ['07330', 'Hợp Đức', 'Xã', 'Hop Duc'],\n",
       "   ['07333', 'Lam Cốt', 'Xã', 'Lam Cot'],\n",
       "   ['07303', 'Lan Giới', 'Xã', 'Lan Gioi'],\n",
       "   ['07357', 'Liên Chung', 'Xã', 'Lien Chung'],\n",
       "   ['07327', 'Liên Sơn', 'Xã', 'Lien Son'],\n",
       "   ['07348', 'Ngọc Châu', 'Xã', 'Ngoc Chau'],\n",
       "   ['07363', 'Ngọc Lý', 'Xã', 'Ngoc Ly'],\n",
       "   ['07360', 'Ngọc Thiện', 'Xã', 'Ngoc Thien'],\n",
       "   ['07351', 'Ngọc Vân', 'Xã', 'Ngoc Van'],\n",
       "   ['07306', 'Nhã Nam', 'Thị trấn', 'Nha Nam'],\n",
       "   ['07324', 'Phúc Hòa', 'Xã', 'Phuc Hoa'],\n",
       "   ['07318', 'Phúc Sơn', 'Xã', 'Phuc Son'],\n",
       "   ['07315', 'Quang Tiến', 'Xã', 'Quang Tien'],\n",
       "   ['07366', 'Quế Nham', 'Xã', 'Que Nham'],\n",
       "   ['07345', 'Song Vân', 'Xã', 'Song Van'],\n",
       "   ['07309', 'Tân Trung', 'Xã', 'Tan Trung'],\n",
       "   ['07354', 'Việt Lập', 'Xã', 'Viet Lap'],\n",
       "   ['07342', 'Việt Ngọc', 'Xã', 'Viet Ngoc']]],\n",
       " ['222',\n",
       "  'Việt Yên',\n",
       "  'Huyện',\n",
       "  'Viet Yen',\n",
       "  [['07777', 'Bích Động', 'Thị trấn', 'Bich Dong'],\n",
       "   ['07783', 'Hồng Thái', 'Xã', 'Hong Thai'],\n",
       "   ['07771', 'Hương Mai', 'Xã', 'Huong Mai'],\n",
       "   ['07768', 'Minh Đức', 'Xã', 'Minh Duc'],\n",
       "   ['07795', 'Nếnh', 'Thị trấn', 'Nenh'],\n",
       "   ['07765', 'Nghĩa Trung', 'Xã', 'Nghia Trung'],\n",
       "   ['07798', 'Ninh Sơn', 'Xã', 'Ninh Son'],\n",
       "   ['07807', 'Quang Châu', 'Xã', 'Quang Chau'],\n",
       "   ['07792', 'Quảng Minh', 'Xã', 'Quang Minh'],\n",
       "   ['07789', 'Tăng Tiến', 'Xã', 'Tang Tien'],\n",
       "   ['07759', 'Thượng Lan', 'Xã', 'Thuong Lan'],\n",
       "   ['07786', 'Tiên Sơn', 'Xã', 'Tien Son'],\n",
       "   ['07780', 'Trung Sơn', 'Xã', 'Trung Son'],\n",
       "   ['07774', 'Tự Lạn', 'Xã', 'Tu Lan'],\n",
       "   ['07804', 'Vân Hà', 'Xã', 'Van Ha'],\n",
       "   ['07801', 'Vân Trung', 'Xã', 'Van Trung'],\n",
       "   ['07762', 'Việt Tiến', 'Xã', 'Viet Tien']]],\n",
       " ['221',\n",
       "  'Yên Dũng',\n",
       "  'Huyện',\n",
       "  'Yen Dung',\n",
       "  [['07738', 'Cảnh Thụy', 'Xã', 'Canh Thuy'],\n",
       "   ['07750', 'Đồng Phúc', 'Xã', 'Dong Phuc'],\n",
       "   ['07747', 'Đồng Việt', 'Xã', 'Dong Viet'],\n",
       "   ['07735', 'Đức Giang', 'Xã', 'Duc Giang'],\n",
       "   ['07690', 'Hương Gián', 'Xã', 'Huong Gian'],\n",
       "   ['07723', 'Lãng Sơn', 'Xã', 'Lang Son'],\n",
       "   ['07684', 'Lão Hộ', 'Xã', 'Lao Ho'],\n",
       "   ['07681', 'Nham Biền', 'Thị trấn', 'Nham Bien'],\n",
       "   ['07708', 'Nội Hoàng', 'Xã', 'Noi Hoang'],\n",
       "   ['07702', 'Quỳnh Sơn', 'Xã', 'Quynh Son'],\n",
       "   ['07682', 'Tân An', 'Thị trấn', 'Tan An'],\n",
       "   ['07717', 'Tân Liễu', 'Xã', 'Tan Lieu'],\n",
       "   ['07729', 'Tiến Dũng', 'Xã', 'Tien Dung'],\n",
       "   ['07711', 'Tiền Phong', 'Xã', 'Tien Phong'],\n",
       "   ['07720', 'Trí Yên', 'Xã', 'Tri Yen'],\n",
       "   ['07741', 'Tư Mại', 'Xã', 'Tu Mai'],\n",
       "   ['07714', 'Xuân Phú', 'Xã', 'Xuan Phu'],\n",
       "   ['07726', 'Yên Lư', 'Xã', 'Yen Lu']]],\n",
       " ['215',\n",
       "  'Yên Thế',\n",
       "  'Huyện',\n",
       "  'Yen The',\n",
       "  [['07285', 'An Thượng', 'Xã', 'An Thuong'],\n",
       "   ['07294', 'Bố Hạ', 'Thị trấn', 'Bo Ha'],\n",
       "   ['07246', 'Canh Nậu', 'Xã', 'Canh Nau'],\n",
       "   ['07258', 'Đồng Hưu', 'Xã', 'Dong Huu'],\n",
       "   ['07282', 'Đồng Kỳ', 'Xã', 'Dong Ky'],\n",
       "   ['07270', 'Đồng Lạc', 'Xã', 'Dong Lac'],\n",
       "   ['07273', 'Đông Sơn', 'Xã', 'Dong Son'],\n",
       "   ['07260', 'Đồng Tâm', 'Xã', 'Dong Tam'],\n",
       "   ['07243', 'Đồng Tiến', 'Xã', 'Dong Tien'],\n",
       "   ['07255', 'Đồng Vương', 'Xã', 'Dong Vuong'],\n",
       "   ['07267', 'Hồng Kỳ', 'Xã', 'Hong Ky'],\n",
       "   ['07279', 'Hương Vĩ', 'Xã', 'Huong Vi'],\n",
       "   ['07288', 'Phồn Xương', 'Thị trấn', 'Phon Xuong'],\n",
       "   ['07261', 'Tam Hiệp', 'Xã', 'Tam Hiep'],\n",
       "   ['07252', 'Tam Tiến', 'Xã', 'Tam Tien'],\n",
       "   ['07276', 'Tân Hiệp', 'Xã', 'Tan Hiep'],\n",
       "   ['07291', 'Tân Sỏi', 'Xã', 'Tan Soi'],\n",
       "   ['07264', 'Tiến Thắng', 'Xã', 'Tien Thang'],\n",
       "   ['07249', 'Xuân Lương', 'Xã', 'Xuan Luong']]]]"
      ]
     },
     "execution_count": 21,
     "metadata": {},
     "output_type": "execute_result"
    }
   ],
   "source": [
    "provinces[2][4]"
   ]
  },
  {
   "cell_type": "code",
   "execution_count": 22,
   "id": "dd3281d8-927c-4dd7-b86e-11c30849ec87",
   "metadata": {},
   "outputs": [
    {
     "data": {
      "application/vnd.jupyter.widget-view+json": {
       "model_id": "b0a415395e254fbc8cda12667d242c7e",
       "version_major": 2,
       "version_minor": 0
      },
      "text/plain": [
       "  0%|          | 0/63 [00:00<?, ?it/s]"
      ]
     },
     "metadata": {},
     "output_type": "display_data"
    }
   ],
   "source": [
    "lst_provinces = []\n",
    "for i in tqdm(range(len(provinces))):\n",
    "    # lop1\n",
    "    tmp = provinces[i][2].lower() + \" \" + provinces[i][1]\n",
    "    lst_provinces.append(provinces[i][1])\n",
    "    lst_provinces.append(tmp)\n",
    "    # lop2\n",
    "    for j in provinces[i][4]:\n",
    "        tmp = j[2].lower() + \" \" + j[1]\n",
    "        lst_provinces.append(j[1])\n",
    "        lst_provinces.append(tmp)\n",
    "        # lop3\n",
    "        for g in j[4]:\n",
    "            tmp = g[2].lower() + \" \" + g[1]\n",
    "            lst_provinces.append(g[1])\n",
    "            lst_provinces.append(tmp)"
   ]
  },
  {
   "cell_type": "code",
   "execution_count": 23,
   "id": "425b03b6-5afe-4911-a84b-ba3077ab8a6a",
   "metadata": {},
   "outputs": [],
   "source": [
    "lst_provinces = list(set(lst_provinces))"
   ]
  },
  {
   "cell_type": "code",
   "execution_count": 24,
   "id": "61734a83-6647-4540-b03f-865e6504e4af",
   "metadata": {},
   "outputs": [
    {
     "data": {
      "text/plain": [
       "16222"
      ]
     },
     "execution_count": 24,
     "metadata": {},
     "output_type": "execute_result"
    }
   ],
   "source": [
    "len(lst_provinces)"
   ]
  },
  {
   "cell_type": "code",
   "execution_count": 25,
   "id": "5cdf4d38-0ea0-4b72-952d-3fac818d809e",
   "metadata": {},
   "outputs": [
    {
     "data": {
      "text/plain": [
       "['Pá Ma Pha Khinh',\n",
       " 'Vũ Quang',\n",
       " 'phường Cầu Ông Lãnh',\n",
       " 'xã Mão Điền',\n",
       " 'thị trấn Chúc Sơn',\n",
       " 'xã Nam Mẫu',\n",
       " 'Nghi Thuận',\n",
       " 'Phong Lộc',\n",
       " 'thị trấn Trần Cao',\n",
       " 'xã Phù Long']"
      ]
     },
     "execution_count": 25,
     "metadata": {},
     "output_type": "execute_result"
    }
   ],
   "source": [
    "lst_provinces[:10]"
   ]
  },
  {
   "cell_type": "code",
   "execution_count": 26,
   "id": "3c16409b-5497-4e8d-9475-5221726aed20",
   "metadata": {},
   "outputs": [
    {
     "data": {
      "text/plain": [
       "['Cửa Lò', 'thị xã Cửa Lò']"
      ]
     },
     "execution_count": 26,
     "metadata": {},
     "output_type": "execute_result"
    }
   ],
   "source": [
    "[x for x in lst_provinces if \"Cửa Lò\" in x]"
   ]
  },
  {
   "cell_type": "code",
   "execution_count": 27,
   "id": "050cf49b-1ca0-4858-9a8c-8f3110caaff9",
   "metadata": {},
   "outputs": [
    {
     "data": {
      "text/plain": [
       "11331"
      ]
     },
     "execution_count": 27,
     "metadata": {},
     "output_type": "execute_result"
    }
   ],
   "source": [
    "len(name)"
   ]
  },
  {
   "cell_type": "code",
   "execution_count": 112,
   "id": "55ec8840-1b23-4d6d-86cf-695f732d9e7f",
   "metadata": {},
   "outputs": [],
   "source": [
    "import copy\n",
    "def check_name(input_sen):\n",
    "    input_sen = unicodedata.normalize(\"NFC\", input_sen)\n",
    "    tmp = input_sen.lower()\n",
    "    pos = input_sen.split(\" \")\n",
    "    pos_idx = [0]\n",
    "    for i in range(1, len(pos)):\n",
    "        pos_idx.append(pos_idx[i-1]+len(pos[i-1])+1)\n",
    "    print(pos_idx)\n",
    "    lst_errors = []\n",
    "    for i in tqdm(name):\n",
    "        if len(i) < 2:\n",
    "            continue\n",
    "        # print(i)\n",
    "        g = input_sen\n",
    "        lst_err = []\n",
    "        while True:\n",
    "            if i.lower() in g.lower():\n",
    "                # print(f\"kw : '{i.lower()}'\")\n",
    "                s = g.lower().find(i.lower())\n",
    "                # print(s)\n",
    "                cur_s = g[s:s+len(i)]\n",
    "                idx_p = 0\n",
    "                for a,b in zip(cur_s.split(' '), i.split(\" \")):\n",
    "                    if a != b:\n",
    "                        lst_err.append(pos_idx.index(s + idx_p))\n",
    "                    idx_p += len(a) + 1\n",
    "                    # print(idx_p)\n",
    "                g = g[s+len(i):]\n",
    "            else:\n",
    "                break\n",
    "    \n",
    "        lst_errors += lst_err\n",
    "    lst_errors = list(set(lst_errors))\n",
    "    lst_errors.sort()\n",
    "    return lst_errors"
   ]
  },
  {
   "cell_type": "code",
   "execution_count": 113,
   "id": "a3383133-3bb4-406f-9ad4-91173498dc94",
   "metadata": {},
   "outputs": [],
   "source": [
    "def check_provinces(input_sen):\n",
    "    input_sen = unicodedata.normalize(\"NFC\", input_sen)\n",
    "    tmp = input_sen.lower()\n",
    "    pos = input_sen.split(\" \")\n",
    "    pos_idx = [0]\n",
    "    for i in range(1, len(pos)):\n",
    "        pos_idx.append(pos_idx[i-1]+len(pos[i-1])+1)\n",
    "    lst_errors = []\n",
    "    for i in tqdm(lst_provinces):\n",
    "        if len(i) < 3:\n",
    "            continue\n",
    "        # print(i)\n",
    "        g = input_sen\n",
    "        lst_err = []\n",
    "        while True:\n",
    "            if i.lower() in g.lower():\n",
    "                # print(f\"kw : '{i.lower()}'\")\n",
    "                s = g.lower().find(i.lower())\n",
    "                cur_s = g[s:s+len(i)]\n",
    "                idx_p = 0\n",
    "                for a,b in zip(cur_s.split(' '), i.split(\" \")):\n",
    "                    if a != b:\n",
    "                        lst_err.append(pos_idx.index(s + idx_p))\n",
    "                    idx_p += len(a) + 1\n",
    "                g = g[s+len(i):]\n",
    "                # print(g)\n",
    "            else:\n",
    "                break\n",
    "    \n",
    "        lst_errors += lst_err\n",
    "    lst_errors = list(set(lst_errors))\n",
    "    lst_errors.sort()\n",
    "    return lst_errors"
   ]
  },
  {
   "cell_type": "code",
   "execution_count": 116,
   "id": "6e0ea087-ec20-4c0c-b6ad-c064b7d29226",
   "metadata": {},
   "outputs": [
    {
     "data": {
      "application/vnd.jupyter.widget-view+json": {
       "model_id": "b559726b713348ea9fbf5ef328922954",
       "version_major": 2,
       "version_minor": 0
      },
      "text/plain": [
       "  0%|          | 0/16222 [00:00<?, ?it/s]"
      ]
     },
     "metadata": {},
     "output_type": "display_data"
    },
    {
     "data": {
      "text/plain": [
       "[2, 4, 5, 8, 15]"
      ]
     },
     "execution_count": 116,
     "metadata": {},
     "output_type": "execute_result"
    }
   ],
   "source": [
    "check_provinces(\"thành phố cửa Lò bắc ninh là phường minh Khai lớn nhất và giàu nhất hà Nội\")"
   ]
  },
  {
   "cell_type": "code",
   "execution_count": 115,
   "id": "6c21edfa-7a64-4ba7-a76d-418dc5e39f32",
   "metadata": {},
   "outputs": [
    {
     "name": "stdout",
     "output_type": "stream",
     "text": [
      "[0, 7, 11, 15, 18, 22, 26, 30, 34, 39]\n"
     ]
    },
    {
     "data": {
      "application/vnd.jupyter.widget-view+json": {
       "model_id": "438ffa8d6b6d482a9ddec068661f14d7",
       "version_major": 2,
       "version_minor": 0
      },
      "text/plain": [
       "  0%|          | 0/11331 [00:00<?, ?it/s]"
      ]
     },
     "metadata": {},
     "output_type": "display_data"
    },
    {
     "data": {
      "text/plain": [
       "[2]"
      ]
     },
     "execution_count": 115,
     "metadata": {},
     "output_type": "execute_result"
    }
   ],
   "source": [
    "check_name(\"nguyễn Anh đức là cầu thủ hay hơn công Phượng\")"
   ]
  },
  {
   "cell_type": "code",
   "execution_count": 48,
   "id": "fd53dc70-128b-4b4b-b49a-0b5cc0b6db8a",
   "metadata": {},
   "outputs": [
    {
     "name": "stdout",
     "output_type": "stream",
     "text": [
      "208 272\n"
     ]
    }
   ],
   "source": [
    "for i,j in zip(name[9],\"Anh Đức\"):\n",
    "    if i != j:\n",
    "        print(ord(i), ord(j))"
   ]
  },
  {
   "cell_type": "code",
   "execution_count": 56,
   "id": "007a9126-7216-4c63-8aa6-7f3ff24b1256",
   "metadata": {},
   "outputs": [
    {
     "data": {
      "text/plain": [
       "4327"
      ]
     },
     "execution_count": 56,
     "metadata": {},
     "output_type": "execute_result"
    }
   ],
   "source": [
    "name.index(normalized_string2)"
   ]
  },
  {
   "cell_type": "code",
   "execution_count": 57,
   "id": "fcea4da9-8e0b-4daf-b55e-6220f5b64454",
   "metadata": {},
   "outputs": [],
   "source": [
    "normalized_string1 = unicodedata.normalize(\"NFC\", name[4327])\n",
    "normalized_string2 = unicodedata.normalize(\"NFC\", \"Anh Đức\")\n"
   ]
  },
  {
   "cell_type": "code",
   "execution_count": 58,
   "id": "7e8f9479-6fbf-47cf-9410-987c640b0159",
   "metadata": {},
   "outputs": [
    {
     "name": "stdout",
     "output_type": "stream",
     "text": [
      "65 65\n",
      "110 110\n",
      "104 104\n",
      "32 32\n",
      "272 272\n",
      "7913 7913\n",
      "99 99\n"
     ]
    }
   ],
   "source": [
    "for i,j in zip(normalized_string1,normalized_string2):\n",
    "    print(ord(i), ord(j))"
   ]
  },
  {
   "cell_type": "code",
   "execution_count": 112,
   "id": "fe09398e-bc08-47d1-9819-4fb002cdea17",
   "metadata": {},
   "outputs": [
    {
     "data": {
      "text/plain": [
       "True"
      ]
     },
     "execution_count": 112,
     "metadata": {},
     "output_type": "execute_result"
    }
   ],
   "source": [
    "import unicodedata\n",
    "unicodedata.normalize(\"NFC\",name[4327]) in  unicodedata.normalize(\"NFC\", \"Anh Đức là cầu thủ\")"
   ]
  },
  {
   "cell_type": "code",
   "execution_count": 94,
   "id": "d91ae2f1-474a-4af2-859c-85321535f8ed",
   "metadata": {},
   "outputs": [
    {
     "data": {
      "text/plain": [
       "'Anh Ðức'"
      ]
     },
     "execution_count": 94,
     "metadata": {},
     "output_type": "execute_result"
    }
   ],
   "source": [
    "name[9]"
   ]
  },
  {
   "cell_type": "code",
   "execution_count": 116,
   "id": "14efa9f5-2378-4773-b808-e654cb07ae6e",
   "metadata": {},
   "outputs": [
    {
     "data": {
      "text/plain": [
       "True"
      ]
     },
     "execution_count": 116,
     "metadata": {},
     "output_type": "execute_result"
    }
   ],
   "source": [
    "name[4327].lower() in \"Anh Đức là cầu thủ\".lower()"
   ]
  },
  {
   "cell_type": "code",
   "execution_count": 111,
   "id": "fcb69ad7-88fa-410d-83be-b9462213f25d",
   "metadata": {},
   "outputs": [
    {
     "data": {
      "text/plain": [
       "4327"
      ]
     },
     "execution_count": 111,
     "metadata": {},
     "output_type": "execute_result"
    }
   ],
   "source": [
    "name.index(\"Anh Đức\")"
   ]
  },
  {
   "cell_type": "code",
   "execution_count": 104,
   "id": "8a596ae0-01a1-4a3f-8125-49acb5c294ba",
   "metadata": {},
   "outputs": [
    {
     "data": {
      "text/plain": [
       "['An Cơ',\n",
       " 'An Khang',\n",
       " 'Ân Lai',\n",
       " 'An Nam',\n",
       " 'An Nguyên',\n",
       " 'An Ninh',\n",
       " 'An Tâm',\n",
       " 'Ân Thiện',\n",
       " 'An Tường',\n",
       " 'Anh Ðức']"
      ]
     },
     "execution_count": 104,
     "metadata": {},
     "output_type": "execute_result"
    }
   ],
   "source": [
    "name[:10]"
   ]
  },
  {
   "cell_type": "code",
   "execution_count": 105,
   "id": "59bec4cb-8291-4fc8-8967-40690465b257",
   "metadata": {},
   "outputs": [
    {
     "data": {
      "text/plain": [
       "['TáşĄ',\n",
       " 'Hứa',\n",
       " 'Đậu',\n",
       " 'LĂ˝',\n",
       " 'Quách',\n",
       " 'Nguyáť\\x85n',\n",
       " 'Công',\n",
       " 'Đống',\n",
       " 'Lai',\n",
       " 'Nhiêu',\n",
       " 'Chạc',\n",
       " 'VĂľ',\n",
       " 'Đào',\n",
       " 'Hoà',\n",
       " 'Vưu',\n",
       " 'Ngoâ',\n",
       " 'Quang',\n",
       " 'Döông',\n",
       " 'Kim',\n",
       " 'Kỷ']"
      ]
     },
     "execution_count": 105,
     "metadata": {},
     "output_type": "execute_result"
    }
   ],
   "source": [
    "ho[:20]"
   ]
  },
  {
   "cell_type": "code",
   "execution_count": 106,
   "id": "0c7a1561-d80b-4101-aec0-64b46198f16e",
   "metadata": {},
   "outputs": [
    {
     "data": {
      "text/plain": [
       "['xã Kiến Quốc',\n",
       " 'xã Ia Blang',\n",
       " 'xã Xuân Bắc',\n",
       " 'Lê Thanh Nghị',\n",
       " 'xã Vân Trường',\n",
       " 'xã Xuân Thái',\n",
       " 'xã Thành Lâm',\n",
       " 'Ích Hậu',\n",
       " 'Hưng Nhân',\n",
       " 'Thọ Dân',\n",
       " 'Gia Lập',\n",
       " 'xã Trường Khánh',\n",
       " 'Nhà Mát',\n",
       " 'xã Yên Hồ',\n",
       " 'phường Trần Phú',\n",
       " 'xã Nà Mường',\n",
       " 'Nguyệt Ấn',\n",
       " 'xã Xuân Phúc',\n",
       " 'xã Xuân Thiên',\n",
       " 'Hương Lung']"
      ]
     },
     "execution_count": 106,
     "metadata": {},
     "output_type": "execute_result"
    }
   ],
   "source": [
    "lst_provinces[:20]"
   ]
  },
  {
   "cell_type": "code",
   "execution_count": 25,
   "id": "880ddfdc-32b1-4f1a-9ef2-6ed0d68fdb11",
   "metadata": {},
   "outputs": [
    {
     "name": "stdout",
     "output_type": "stream",
     "text": [
      "Nhập đoạn text cần tạo noise\n"
     ]
    },
    {
     "name": "stdin",
     "output_type": "stream",
     "text": [
      " Hôm nay trời mưa ghê, muốn dắt vợ đi ăn lẩu\n"
     ]
    },
    {
     "name": "stdout",
     "output_type": "stream",
     "text": [
      "Hôm nay trời mưa ghê, mốn dắt vợ đi ăn lẩu\n"
     ]
    }
   ],
   "source": [
    "import re\n",
    "import numpy as np\n",
    "from unidecode import unidecode\n",
    "letters=list(\"abcdefghijklmnopqrstuvwxyzáàảãạâấầẩẫậăắằẳẵặóòỏõọôốồổỗộơớờởỡợéèẻẽẹêếềểễệúùủũụưứừửữựíìỉĩịýỳỷỹỵđABCDEFGHIJKLMNOPQRSTUVWXYZÁÀẢÃẠÂẤẦẨẪẬĂẮẰẲẴẶÓÒỎÕỌÔỐỒỔỖỘƠỚỜỞỠỢÉÈẺẼẸÊẾỀỂỄỆÚÙỦŨỤƯỨỪỬỮỰÍÌỈĨỊÝỲỶỸỴĐ\")\n",
    "letters2=list(\"abcdefghijklmnopqrstuvwxyz\")\n",
    "typo={\"ă\":\"aw\",\"â\":\"aa\",\"á\":\"as\",\"à\":\"af\",\"ả\":\"ar\",\"ã\":\"ax\",\"ạ\":\"aj\",\"ắ\":\"aws\",\"ổ\":\"oor\",\"ỗ\":\"oox\",\"ộ\":\"ooj\",\"ơ\":\"ow\",\n",
    "\"ằ\":\"awf\",\"ẳ\":\"awr\",\"ẵ\":\"awx\",\"ặ\":\"awj\",\"ó\":\"os\",\"ò\":\"of\",\"ỏ\":\"or\",\"õ\":\"ox\",\"ọ\":\"oj\",\"ô\":\"oo\",\"ố\":\"oos\",\"ồ\":\"oof\",\n",
    "\"ớ\":\"ows\",\"ờ\":\"owf\",\"ở\":\"owr\",\"ỡ\":\"owx\",\"ợ\":\"owj\",\"é\":\"es\",\"è\":\"ef\",\"ẻ\":\"er\",\"ẽ\":\"ex\",\"ẹ\":\"ej\",\"ê\":\"ee\",\"ế\":\"ees\",\"ề\":\"eef\",\n",
    "\"ể\":\"eer\",\"ễ\":\"eex\",\"ệ\":\"eej\",\"ú\":\"us\",\"ù\":\"uf\",\"ủ\":\"ur\",\"ũ\":\"ux\",\"ụ\":\"uj\",\"ư\":\"uw\",\"ứ\":\"uws\",\"ừ\":\"uwf\",\"ử\":\"uwr\",\"ữ\":\"uwx\",\n",
    "\"ự\":\"uwj\",\"í\":\"is\",\"ì\":\"if\",\"ỉ\":\"ir\",\"ị\":\"ij\",\"ĩ\":\"ix\",\"ý\":\"ys\",\"ỳ\":\"yf\",\"ỷ\":\"yr\",\"ỵ\":\"yj\",\"đ\":\"dd\",\n",
    "\"Ă\":\"Aw\",\"Â\":\"Aa\",\"Á\":\"As\",\"À\":\"Af\",\"Ả\":\"Ar\",\"Ã\":\"Ax\",\"Ạ\":\"Aj\",\"Ắ\":\"Aws\",\"Ổ\":\"Oor\",\"Ỗ\":\"Oox\",\"Ộ\":\"Ooj\",\"Ơ\":\"Ow\",\n",
    "\"Ằ\":\"AWF\",\"Ẳ\":\"Awr\",\"Ẵ\":\"Awx\",\"Ặ\":\"Awj\",\"Ó\":\"Os\",\"Ò\":\"Of\",\"Ỏ\":\"Or\",\"Õ\":\"Ox\",\"Ọ\":\"Oj\",\"Ô\":\"Oo\",\"Ố\":\"Oos\",\"Ồ\":\"Oof\",\n",
    "\"Ớ\":\"Ows\",\"Ờ\":\"Owf\",\"Ở\":\"Owr\",\"Ỡ\":\"Owx\",\"Ợ\":\"Owj\",\"É\":\"Es\",\"È\":\"Ef\",\"Ẻ\":\"Er\",\"Ẽ\":\"Ex\",\"Ẹ\":\"Ej\",\"Ê\":\"Ee\",\"Ế\":\"Ees\",\"Ề\":\"Eef\",\n",
    "\"Ể\":\"Eer\",\"Ễ\":\"Eex\",\"Ệ\":\"Eej\",\"Ú\":\"Us\",\"Ù\":\"Uf\",\"Ủ\":\"Ur\",\"Ũ\":\"Ux\",\"Ụ\":\"Uj\",\"Ư\":\"Uw\",\"Ứ\":\"Uws\",\"Ừ\":\"Uwf\",\"Ử\":\"Uwr\",\"Ữ\":\"Uwx\",\n",
    "\"Ự\":\"Uwj\",\"Í\":\"Is\",\"Ì\":\"If\",\"Ỉ\":\"Ir\",\"Ị\":\"Ij\",\"Ĩ\":\"Ix\",\"Ý\":\"Ys\",\"Ỳ\":\"Yf\",\"Ỷ\":\"Yr\",\"Ỵ\":\"Yj\",\"Đ\":\"Dd\"}\n",
    "region={\"ẻ\":\"ẽ\",\"ẽ\":\"ẻ\",\"ũ\":\"ủ\",\"ủ\":\"ũ\",\"ã\":\"ả\",\"ả\":\"ã\",\"ỏ\":\"õ\",\"õ\":\"ỏ\",\"i\":\"j\"}\n",
    "region2={\"s\":\"x\",\"l\":\"n\",\"n\":\"l\",\"x\":\"s\",\"d\":\"gi\",\"S\":\"X\",\"L\":\"N\",\"N\":\"L\",\"X\":\"S\",\"Gi\":\"D\",\"D\":\"Gi\"}\n",
    "vowel=list(\"aeiouyáàảãạâấầẩẫậăắằẳẵặóòỏõọôốồổỗộơớờởỡợéèẻẽẹêếềểễệúùủũụưứừửữựíìỉĩịýỳỷỹỵ\")\n",
    "acronym={\"không\":\"ko\",\" anh\":\" a\",\"em\":\"e\",\"biết\":\"bít\",\"giờ\":\"h\",\"gì\":\"j\",\"muốn\":\"mún\",\"học\":\"hok\",\"yêu\":\"iu\",\n",
    "         \"chồng\":\"ck\",\"vợ\":\"vk\",\" ông\":\" ô\",\"được\":\"đc\",\"tôi\":\"t\",\n",
    "         \"Không\":\"Ko\",\" Anh\":\" A\",\"Em\":\"E\",\"Biết\":\"Bít\",\"Giờ\":\"H\",\"Gì\":\"J\",\"Muốn\":\"Mún\",\"Học\":\"Hok\",\"Yêu\":\"Iu\",\n",
    "         \"Chồng\":\"Ck\",\"Vợ\":\"Vk\",\" Ông\":\" Ô\",\"Được\":\"Đc\",\"Tôi\":\"T\",}\n",
    "teen={\"ch\":\"ck\",\"ph\":\"f\",\"th\":\"tk\",\"nh\":\"nk\",\n",
    "      \"Ch\":\"Ck\",\"Ph\":\"F\",\"Th\":\"Tk\",\"Nh\":\"Nk\"}\n",
    "def teen_code(sentence,pivot):\n",
    "    random = np.random.uniform(0,1,1)[0]\n",
    "    new_sentence=str(sentence)\n",
    "    if random>pivot:\n",
    "        for word in acronym.keys():\n",
    "            if re.search(word, new_sentence):\n",
    "                random2 = np.random.uniform(0,1,1)[0]\n",
    "                if random2 <0.5:\n",
    "                    new_sentence=new_sentence.replace(word,acronym[word])\n",
    "        for word in teen.keys(): \n",
    "            if re.search(word, new_sentence):\n",
    "                random3 = np.random.uniform(0,1,1)[0]\n",
    "                if random3 <0.05:\n",
    "                    new_sentence=new_sentence.replace(word,teen[word])        \n",
    "        return new_sentence\n",
    "    else:\n",
    "        return sentence\n",
    "    \n",
    "\n",
    "def add_noise(sentence, pivot1,pivot2):\n",
    "    sentence=teen_code(sentence,0.5)\n",
    "    noisy_sentence = \"\"\n",
    "    i = 0\n",
    "    while i < len(sentence):\n",
    "        if sentence[i] not in letters:\n",
    "            noisy_sentence+=sentence[i]\n",
    "        else: \n",
    "            random = np.random.uniform(0,1,1)[0]   \n",
    "            if random < pivot1:\n",
    "                noisy_sentence+=(sentence[i])\n",
    "            elif random<pivot2:\n",
    "                if sentence[i] in typo.keys() and sentence[i] in region.keys():\n",
    "                    random2=np.random.uniform(0,1,1)[0]\n",
    "                    if random2<=0.4:\n",
    "                        noisy_sentence+=typo[sentence[i]]\n",
    "                    elif random2<0.8:\n",
    "                        noisy_sentence+=region[sentence[i]]\n",
    "                    elif random2<0.95 :\n",
    "                        noisy_sentence+=unidecode(sentence[i])\n",
    "                    else:\n",
    "                        noisy_sentence+=sentence[i]\n",
    "                elif sentence[i] in typo.keys():\n",
    "                    random3=np.random.uniform(0,1,1)[0]\n",
    "                    if random3<=0.6:\n",
    "                        noisy_sentence+=typo[sentence[i]]\n",
    "                    elif random3<0.9 :\n",
    "                        noisy_sentence+=unidecode(sentence[i])                        \n",
    "                    else:\n",
    "                        noisy_sentence+=sentence[i]\n",
    "                elif sentence[i] in region.keys():\n",
    "                    random4=np.random.uniform(0,1,1)[0]\n",
    "                    if random4<=0.6:\n",
    "                        noisy_sentence+=region[sentence[i]]\n",
    "                    elif random4<0.85 :\n",
    "                        noisy_sentence+=unidecode(sentence[i])                        \n",
    "                    else:\n",
    "                        noisy_sentence+=sentence[i]\n",
    "                elif i<len(sentence)-1 :\n",
    "                    if sentence[i] in region2.keys() and (i==0 or sentence[i-1] not in letters) and sentence[i+1] in vowel:\n",
    "                        random5=np.random.uniform(0,1,1)[0]\n",
    "                        if random5<=0.9:\n",
    "                            noisy_sentence+=region2[sentence[i]]\n",
    "                        else:\n",
    "                            noisy_sentence+=sentence[i]\n",
    "                    else:\n",
    "                        noisy_sentence+=sentence[i]\n",
    "\n",
    "            else:\n",
    "                new_random = np.random.uniform(0,1,1)[0]\n",
    "                if new_random <=0.33:\n",
    "                    if i == (len(sentence) - 1):\n",
    "                        continue\n",
    "                    else:\n",
    "                        noisy_sentence+=(sentence[i+1])\n",
    "                        noisy_sentence+=(sentence[i])\n",
    "                        i += 1\n",
    "                elif new_random <= 0.66:\n",
    "                    random_letter = np.random.choice(letters2, 1)[0]\n",
    "                    noisy_sentence+=random_letter\n",
    "                else:\n",
    "                    pass\n",
    "      \n",
    "        i += 1\n",
    "    return noisy_sentence\n",
    "print(\"Nhập đoạn text cần tạo noise\")\n",
    "text=input()\n",
    "\n",
    "print(add_noise(text,0.94,0.985))\n"
   ]
  },
  {
   "cell_type": "code",
   "execution_count": 2,
   "id": "afded585-c093-4068-a95e-b0cc2c72b3f0",
   "metadata": {
    "scrolled": true
   },
   "outputs": [
    {
     "name": "stdout",
     "output_type": "stream",
     "text": [
      "\n",
      "===================================BUG REPORT===================================\n",
      "================================================================================\n",
      "The following directories listed in your path were found to be non-existent: {PosixPath('/home/ubuntu/Spell/Untitled.ipynb')}\n",
      "The following directories listed in your path were found to be non-existent: {PosixPath('module'), PosixPath('//matplotlib_inline.backend_inline')}\n",
      "CUDA_SETUP: WARNING! libcudart.so not found in any environmental path. Searching in backup paths...\n",
      "The following directories listed in your path were found to be non-existent: {PosixPath('/usr/local/cuda/lib64')}\n",
      "DEBUG: Possible options found for libcudart.so: set()\n",
      "CUDA SETUP: CUDA version lower than 11 are currently not supported for LLM.int8(). You will be only to use 8-bit optimizers and quantization routines!!\n",
      "CUDA SETUP: PyTorch settings found: CUDA_VERSION=102, Highest Compute Capability: 8.6.\n",
      "CUDA SETUP: To manually override the PyTorch CUDA version please see:https://github.com/TimDettmers/bitsandbytes/blob/main/how_to_use_nonpytorch_cuda.md\n",
      "CUDA SETUP: Required library version not found: libbitsandbytes_cuda102.so. Maybe you need to compile it from source?\n",
      "CUDA SETUP: Defaulting to libbitsandbytes_cpu.so...\n",
      "\n",
      "================================================ERROR=====================================\n",
      "CUDA SETUP: CUDA detection failed! Possible reasons:\n",
      "1. You need to manually override the PyTorch CUDA version. Please see: \"https://github.com/TimDettmers/bitsandbytes/blob/main/how_to_use_nonpytorch_cuda.md\n",
      "2. CUDA driver not installed\n",
      "3. CUDA not installed\n",
      "4. You have multiple conflicting CUDA libraries\n",
      "5. Required library not pre-compiled for this bitsandbytes release!\n",
      "CUDA SETUP: If you compiled from source, try again with `make CUDA_VERSION=DETECTED_CUDA_VERSION` for example, `make CUDA_VERSION=113`.\n",
      "CUDA SETUP: The CUDA version for the compile might depend on your conda install. Inspect CUDA version via `conda list | grep cuda`.\n",
      "================================================================================\n",
      "\n",
      "CUDA SETUP: Problem: The main issue seems to be that the main CUDA runtime library was not detected.\n",
      "CUDA SETUP: Solution 1: To solve the issue the libcudart.so location needs to be added to the LD_LIBRARY_PATH variable\n",
      "CUDA SETUP: Solution 1a): Find the cuda runtime library via: find / -name libcudart.so 2>/dev/null\n",
      "CUDA SETUP: Solution 1b): Once the library is found add it to the LD_LIBRARY_PATH: export LD_LIBRARY_PATH=$LD_LIBRARY_PATH:FOUND_PATH_FROM_1a\n",
      "CUDA SETUP: Solution 1c): For a permanent solution add the export from 1b into your .bashrc file, located at ~/.bashrc\n",
      "CUDA SETUP: Solution 2: If no library was found in step 1a) you need to install CUDA.\n",
      "CUDA SETUP: Solution 2a): Download CUDA install script: wget https://github.com/TimDettmers/bitsandbytes/blob/main/cuda_install.sh\n",
      "CUDA SETUP: Solution 2b): Install desired CUDA version to desired location. The syntax is bash cuda_install.sh CUDA_VERSION PATH_TO_INSTALL_INTO.\n",
      "CUDA SETUP: Solution 2b): For example, \"bash cuda_install.sh 113 ~/local/\" will download CUDA 11.3 and install into the folder ~/local\n",
      "CUDA SETUP: Setup Failed!\n"
     ]
    },
    {
     "ename": "RuntimeError",
     "evalue": "Failed to import transformers.pipelines because of the following error (look up to see its traceback):\n\n        CUDA Setup failed despite GPU being available. Please run the following command to get more information:\n\n        python -m bitsandbytes\n\n        Inspect the output of the command and see if you can locate CUDA libraries. You might need to add them\n        to your LD_LIBRARY_PATH. If you suspect a bug, please take the information from python -m bitsandbytes\n        and open an issue at: https://github.com/TimDettmers/bitsandbytes/issues",
     "output_type": "error",
     "traceback": [
      "\u001b[0;31m---------------------------------------------------------------------------\u001b[0m",
      "\u001b[0;31mRuntimeError\u001b[0m                              Traceback (most recent call last)",
      "File \u001b[0;32m~/miniconda3/envs/minh/lib/python3.9/site-packages/transformers/utils/import_utils.py:1184\u001b[0m, in \u001b[0;36m_LazyModule._get_module\u001b[0;34m(self, module_name)\u001b[0m\n\u001b[1;32m   1183\u001b[0m \u001b[38;5;28;01mtry\u001b[39;00m:\n\u001b[0;32m-> 1184\u001b[0m     \u001b[38;5;28;01mreturn\u001b[39;00m \u001b[43mimportlib\u001b[49m\u001b[38;5;241;43m.\u001b[39;49m\u001b[43mimport_module\u001b[49m\u001b[43m(\u001b[49m\u001b[38;5;124;43m\"\u001b[39;49m\u001b[38;5;124;43m.\u001b[39;49m\u001b[38;5;124;43m\"\u001b[39;49m\u001b[43m \u001b[49m\u001b[38;5;241;43m+\u001b[39;49m\u001b[43m \u001b[49m\u001b[43mmodule_name\u001b[49m\u001b[43m,\u001b[49m\u001b[43m \u001b[49m\u001b[38;5;28;43mself\u001b[39;49m\u001b[38;5;241;43m.\u001b[39;49m\u001b[38;5;18;43m__name__\u001b[39;49m\u001b[43m)\u001b[49m\n\u001b[1;32m   1185\u001b[0m \u001b[38;5;28;01mexcept\u001b[39;00m \u001b[38;5;167;01mException\u001b[39;00m \u001b[38;5;28;01mas\u001b[39;00m e:\n",
      "File \u001b[0;32m~/miniconda3/envs/minh/lib/python3.9/importlib/__init__.py:127\u001b[0m, in \u001b[0;36mimport_module\u001b[0;34m(name, package)\u001b[0m\n\u001b[1;32m    126\u001b[0m         level \u001b[38;5;241m+\u001b[39m\u001b[38;5;241m=\u001b[39m \u001b[38;5;241m1\u001b[39m\n\u001b[0;32m--> 127\u001b[0m \u001b[38;5;28;01mreturn\u001b[39;00m \u001b[43m_bootstrap\u001b[49m\u001b[38;5;241;43m.\u001b[39;49m\u001b[43m_gcd_import\u001b[49m\u001b[43m(\u001b[49m\u001b[43mname\u001b[49m\u001b[43m[\u001b[49m\u001b[43mlevel\u001b[49m\u001b[43m:\u001b[49m\u001b[43m]\u001b[49m\u001b[43m,\u001b[49m\u001b[43m \u001b[49m\u001b[43mpackage\u001b[49m\u001b[43m,\u001b[49m\u001b[43m \u001b[49m\u001b[43mlevel\u001b[49m\u001b[43m)\u001b[49m\n",
      "File \u001b[0;32m<frozen importlib._bootstrap>:1030\u001b[0m, in \u001b[0;36m_gcd_import\u001b[0;34m(name, package, level)\u001b[0m\n",
      "File \u001b[0;32m<frozen importlib._bootstrap>:1007\u001b[0m, in \u001b[0;36m_find_and_load\u001b[0;34m(name, import_)\u001b[0m\n",
      "File \u001b[0;32m<frozen importlib._bootstrap>:986\u001b[0m, in \u001b[0;36m_find_and_load_unlocked\u001b[0;34m(name, import_)\u001b[0m\n",
      "File \u001b[0;32m<frozen importlib._bootstrap>:680\u001b[0m, in \u001b[0;36m_load_unlocked\u001b[0;34m(spec)\u001b[0m\n",
      "File \u001b[0;32m<frozen importlib._bootstrap_external>:850\u001b[0m, in \u001b[0;36mexec_module\u001b[0;34m(self, module)\u001b[0m\n",
      "File \u001b[0;32m<frozen importlib._bootstrap>:228\u001b[0m, in \u001b[0;36m_call_with_frames_removed\u001b[0;34m(f, *args, **kwds)\u001b[0m\n",
      "File \u001b[0;32m~/miniconda3/envs/minh/lib/python3.9/site-packages/transformers/pipelines/__init__.py:75\u001b[0m\n\u001b[1;32m     74\u001b[0m \u001b[38;5;28;01mfrom\u001b[39;00m \u001b[38;5;21;01m.\u001b[39;00m\u001b[38;5;21;01mtext_generation\u001b[39;00m \u001b[38;5;28;01mimport\u001b[39;00m TextGenerationPipeline\n\u001b[0;32m---> 75\u001b[0m \u001b[38;5;28;01mfrom\u001b[39;00m \u001b[38;5;21;01m.\u001b[39;00m\u001b[38;5;21;01mtext_to_audio\u001b[39;00m \u001b[38;5;28;01mimport\u001b[39;00m TextToAudioPipeline\n\u001b[1;32m     76\u001b[0m \u001b[38;5;28;01mfrom\u001b[39;00m \u001b[38;5;21;01m.\u001b[39;00m\u001b[38;5;21;01mtoken_classification\u001b[39;00m \u001b[38;5;28;01mimport\u001b[39;00m (\n\u001b[1;32m     77\u001b[0m     AggregationStrategy,\n\u001b[1;32m     78\u001b[0m     NerPipeline,\n\u001b[1;32m     79\u001b[0m     TokenClassificationArgumentHandler,\n\u001b[1;32m     80\u001b[0m     TokenClassificationPipeline,\n\u001b[1;32m     81\u001b[0m )\n",
      "File \u001b[0;32m~/miniconda3/envs/minh/lib/python3.9/site-packages/transformers/pipelines/text_to_audio.py:22\u001b[0m\n\u001b[1;32m     21\u001b[0m     \u001b[38;5;28;01mfrom\u001b[39;00m \u001b[38;5;21;01m.\u001b[39;00m\u001b[38;5;21;01m.\u001b[39;00m\u001b[38;5;21;01mmodels\u001b[39;00m\u001b[38;5;21;01m.\u001b[39;00m\u001b[38;5;21;01mauto\u001b[39;00m\u001b[38;5;21;01m.\u001b[39;00m\u001b[38;5;21;01mmodeling_auto\u001b[39;00m \u001b[38;5;28;01mimport\u001b[39;00m MODEL_FOR_TEXT_TO_SPECTROGRAM_MAPPING\n\u001b[0;32m---> 22\u001b[0m     \u001b[38;5;28;01mfrom\u001b[39;00m \u001b[38;5;21;01m.\u001b[39;00m\u001b[38;5;21;01m.\u001b[39;00m\u001b[38;5;21;01mmodels\u001b[39;00m\u001b[38;5;21;01m.\u001b[39;00m\u001b[38;5;21;01mspeecht5\u001b[39;00m\u001b[38;5;21;01m.\u001b[39;00m\u001b[38;5;21;01mmodeling_speecht5\u001b[39;00m \u001b[38;5;28;01mimport\u001b[39;00m SpeechT5HifiGan\n\u001b[1;32m     24\u001b[0m DEFAULT_VOCODER_ID \u001b[38;5;241m=\u001b[39m \u001b[38;5;124m\"\u001b[39m\u001b[38;5;124mmicrosoft/speecht5_hifigan\u001b[39m\u001b[38;5;124m\"\u001b[39m\n",
      "File \u001b[0;32m~/miniconda3/envs/minh/lib/python3.9/site-packages/transformers/models/speecht5/modeling_speecht5.py:28\u001b[0m\n\u001b[1;32m     27\u001b[0m \u001b[38;5;28;01mfrom\u001b[39;00m \u001b[38;5;21;01m.\u001b[39;00m\u001b[38;5;21;01m.\u001b[39;00m\u001b[38;5;21;01m.\u001b[39;00m\u001b[38;5;21;01mactivations\u001b[39;00m \u001b[38;5;28;01mimport\u001b[39;00m ACT2FN\n\u001b[0;32m---> 28\u001b[0m \u001b[38;5;28;01mfrom\u001b[39;00m \u001b[38;5;21;01m.\u001b[39;00m\u001b[38;5;21;01m.\u001b[39;00m\u001b[38;5;21;01m.\u001b[39;00m\u001b[38;5;21;01mintegrations\u001b[39;00m\u001b[38;5;21;01m.\u001b[39;00m\u001b[38;5;21;01mdeepspeed\u001b[39;00m \u001b[38;5;28;01mimport\u001b[39;00m is_deepspeed_zero3_enabled\n\u001b[1;32m     29\u001b[0m \u001b[38;5;28;01mfrom\u001b[39;00m \u001b[38;5;21;01m.\u001b[39;00m\u001b[38;5;21;01m.\u001b[39;00m\u001b[38;5;21;01m.\u001b[39;00m\u001b[38;5;21;01mmodeling_outputs\u001b[39;00m \u001b[38;5;28;01mimport\u001b[39;00m (\n\u001b[1;32m     30\u001b[0m     BaseModelOutput,\n\u001b[1;32m     31\u001b[0m     BaseModelOutputWithPastAndCrossAttentions,\n\u001b[0;32m   (...)\u001b[0m\n\u001b[1;32m     34\u001b[0m     Seq2SeqSpectrogramOutput,\n\u001b[1;32m     35\u001b[0m )\n",
      "File \u001b[0;32m~/miniconda3/envs/minh/lib/python3.9/site-packages/transformers/integrations/__init__.py:14\u001b[0m\n\u001b[1;32m      1\u001b[0m \u001b[38;5;66;03m# Copyright 2023 The HuggingFace Team. All rights reserved.\u001b[39;00m\n\u001b[1;32m      2\u001b[0m \u001b[38;5;66;03m#\u001b[39;00m\n\u001b[1;32m      3\u001b[0m \u001b[38;5;66;03m# Licensed under the Apache License, Version 2.0 (the \"License\");\u001b[39;00m\n\u001b[0;32m   (...)\u001b[0m\n\u001b[1;32m     12\u001b[0m \u001b[38;5;66;03m# See the License for the specific language governing permissions and\u001b[39;00m\n\u001b[1;32m     13\u001b[0m \u001b[38;5;66;03m# limitations under the License.\u001b[39;00m\n\u001b[0;32m---> 14\u001b[0m \u001b[38;5;28;01mfrom\u001b[39;00m \u001b[38;5;21;01m.\u001b[39;00m\u001b[38;5;21;01mbitsandbytes\u001b[39;00m \u001b[38;5;28;01mimport\u001b[39;00m (\n\u001b[1;32m     15\u001b[0m     get_keys_to_not_convert,\n\u001b[1;32m     16\u001b[0m     replace_8bit_linear,\n\u001b[1;32m     17\u001b[0m     replace_with_bnb_linear,\n\u001b[1;32m     18\u001b[0m     set_module_8bit_tensor_to_device,\n\u001b[1;32m     19\u001b[0m     set_module_quantized_tensor_to_device,\n\u001b[1;32m     20\u001b[0m )\n\u001b[1;32m     21\u001b[0m \u001b[38;5;28;01mfrom\u001b[39;00m \u001b[38;5;21;01m.\u001b[39;00m\u001b[38;5;21;01mdeepspeed\u001b[39;00m \u001b[38;5;28;01mimport\u001b[39;00m (\n\u001b[1;32m     22\u001b[0m     HfDeepSpeedConfig,\n\u001b[1;32m     23\u001b[0m     HfTrainerDeepSpeedConfig,\n\u001b[0;32m   (...)\u001b[0m\n\u001b[1;32m     31\u001b[0m     unset_hf_deepspeed_config,\n\u001b[1;32m     32\u001b[0m )\n",
      "File \u001b[0;32m~/miniconda3/envs/minh/lib/python3.9/site-packages/transformers/integrations/bitsandbytes.py:11\u001b[0m\n\u001b[1;32m     10\u001b[0m \u001b[38;5;28;01mif\u001b[39;00m is_bitsandbytes_available():\n\u001b[0;32m---> 11\u001b[0m     \u001b[38;5;28;01mimport\u001b[39;00m \u001b[38;5;21;01mbitsandbytes\u001b[39;00m \u001b[38;5;28;01mas\u001b[39;00m \u001b[38;5;21;01mbnb\u001b[39;00m\n\u001b[1;32m     12\u001b[0m     \u001b[38;5;28;01mimport\u001b[39;00m \u001b[38;5;21;01mtorch\u001b[39;00m\n",
      "File \u001b[0;32m~/miniconda3/envs/minh/lib/python3.9/site-packages/bitsandbytes/__init__.py:6\u001b[0m\n\u001b[1;32m      1\u001b[0m \u001b[38;5;66;03m# Copyright (c) Facebook, Inc. and its affiliates.\u001b[39;00m\n\u001b[1;32m      2\u001b[0m \u001b[38;5;66;03m#\u001b[39;00m\n\u001b[1;32m      3\u001b[0m \u001b[38;5;66;03m# This source code is licensed under the MIT license found in the\u001b[39;00m\n\u001b[1;32m      4\u001b[0m \u001b[38;5;66;03m# LICENSE file in the root directory of this source tree.\u001b[39;00m\n\u001b[0;32m----> 6\u001b[0m \u001b[38;5;28;01mfrom\u001b[39;00m \u001b[38;5;21;01m.\u001b[39;00m \u001b[38;5;28;01mimport\u001b[39;00m cuda_setup, utils, research\n\u001b[1;32m      7\u001b[0m \u001b[38;5;28;01mfrom\u001b[39;00m \u001b[38;5;21;01m.\u001b[39;00m\u001b[38;5;21;01mautograd\u001b[39;00m\u001b[38;5;21;01m.\u001b[39;00m\u001b[38;5;21;01m_functions\u001b[39;00m \u001b[38;5;28;01mimport\u001b[39;00m (\n\u001b[1;32m      8\u001b[0m     MatmulLtState,\n\u001b[1;32m      9\u001b[0m     bmm_cublas,\n\u001b[0;32m   (...)\u001b[0m\n\u001b[1;32m     13\u001b[0m     matmul_4bit\n\u001b[1;32m     14\u001b[0m )\n",
      "File \u001b[0;32m~/miniconda3/envs/minh/lib/python3.9/site-packages/bitsandbytes/research/__init__.py:1\u001b[0m\n\u001b[0;32m----> 1\u001b[0m \u001b[38;5;28;01mfrom\u001b[39;00m \u001b[38;5;21;01m.\u001b[39;00m \u001b[38;5;28;01mimport\u001b[39;00m nn\n\u001b[1;32m      2\u001b[0m \u001b[38;5;28;01mfrom\u001b[39;00m \u001b[38;5;21;01m.\u001b[39;00m\u001b[38;5;21;01mautograd\u001b[39;00m\u001b[38;5;21;01m.\u001b[39;00m\u001b[38;5;21;01m_functions\u001b[39;00m \u001b[38;5;28;01mimport\u001b[39;00m (\n\u001b[1;32m      3\u001b[0m     switchback_bnb,\n\u001b[1;32m      4\u001b[0m     matmul_fp8_global,\n\u001b[1;32m      5\u001b[0m     matmul_fp8_mixed,\n\u001b[1;32m      6\u001b[0m )\n",
      "File \u001b[0;32m~/miniconda3/envs/minh/lib/python3.9/site-packages/bitsandbytes/research/nn/__init__.py:1\u001b[0m\n\u001b[0;32m----> 1\u001b[0m \u001b[38;5;28;01mfrom\u001b[39;00m \u001b[38;5;21;01m.\u001b[39;00m\u001b[38;5;21;01mmodules\u001b[39;00m \u001b[38;5;28;01mimport\u001b[39;00m LinearFP8Mixed, LinearFP8Global\n",
      "File \u001b[0;32m~/miniconda3/envs/minh/lib/python3.9/site-packages/bitsandbytes/research/nn/modules.py:8\u001b[0m\n\u001b[1;32m      7\u001b[0m \u001b[38;5;28;01mimport\u001b[39;00m \u001b[38;5;21;01mbitsandbytes\u001b[39;00m \u001b[38;5;28;01mas\u001b[39;00m \u001b[38;5;21;01mbnb\u001b[39;00m\n\u001b[0;32m----> 8\u001b[0m \u001b[38;5;28;01mfrom\u001b[39;00m \u001b[38;5;21;01mbitsandbytes\u001b[39;00m\u001b[38;5;21;01m.\u001b[39;00m\u001b[38;5;21;01moptim\u001b[39;00m \u001b[38;5;28;01mimport\u001b[39;00m GlobalOptimManager\n\u001b[1;32m      9\u001b[0m \u001b[38;5;28;01mfrom\u001b[39;00m \u001b[38;5;21;01mbitsandbytes\u001b[39;00m\u001b[38;5;21;01m.\u001b[39;00m\u001b[38;5;21;01mutils\u001b[39;00m \u001b[38;5;28;01mimport\u001b[39;00m OutlierTracer, find_outlier_dims\n",
      "File \u001b[0;32m~/miniconda3/envs/minh/lib/python3.9/site-packages/bitsandbytes/optim/__init__.py:6\u001b[0m\n\u001b[1;32m      1\u001b[0m \u001b[38;5;66;03m# Copyright (c) Facebook, Inc. and its affiliates.\u001b[39;00m\n\u001b[1;32m      2\u001b[0m \u001b[38;5;66;03m#\u001b[39;00m\n\u001b[1;32m      3\u001b[0m \u001b[38;5;66;03m# This source code is licensed under the MIT license found in the\u001b[39;00m\n\u001b[1;32m      4\u001b[0m \u001b[38;5;66;03m# LICENSE file in the root directory of this source tree.\u001b[39;00m\n\u001b[0;32m----> 6\u001b[0m \u001b[38;5;28;01mfrom\u001b[39;00m \u001b[38;5;21;01mbitsandbytes\u001b[39;00m\u001b[38;5;21;01m.\u001b[39;00m\u001b[38;5;21;01mcextension\u001b[39;00m \u001b[38;5;28;01mimport\u001b[39;00m COMPILED_WITH_CUDA\n\u001b[1;32m      8\u001b[0m \u001b[38;5;28;01mfrom\u001b[39;00m \u001b[38;5;21;01m.\u001b[39;00m\u001b[38;5;21;01madagrad\u001b[39;00m \u001b[38;5;28;01mimport\u001b[39;00m Adagrad, Adagrad8bit, Adagrad32bit\n",
      "File \u001b[0;32m~/miniconda3/envs/minh/lib/python3.9/site-packages/bitsandbytes/cextension.py:20\u001b[0m\n\u001b[1;32m     19\u001b[0m     CUDASetup\u001b[38;5;241m.\u001b[39mget_instance()\u001b[38;5;241m.\u001b[39mprint_log_stack()\n\u001b[0;32m---> 20\u001b[0m     \u001b[38;5;28;01mraise\u001b[39;00m \u001b[38;5;167;01mRuntimeError\u001b[39;00m(\u001b[38;5;124m'''\u001b[39m\n\u001b[1;32m     21\u001b[0m \u001b[38;5;124m    CUDA Setup failed despite GPU being available. Please run the following command to get more information:\u001b[39m\n\u001b[1;32m     22\u001b[0m \n\u001b[1;32m     23\u001b[0m \u001b[38;5;124m    python -m bitsandbytes\u001b[39m\n\u001b[1;32m     24\u001b[0m \n\u001b[1;32m     25\u001b[0m \u001b[38;5;124m    Inspect the output of the command and see if you can locate CUDA libraries. You might need to add them\u001b[39m\n\u001b[1;32m     26\u001b[0m \u001b[38;5;124m    to your LD_LIBRARY_PATH. If you suspect a bug, please take the information from python -m bitsandbytes\u001b[39m\n\u001b[1;32m     27\u001b[0m \u001b[38;5;124m    and open an issue at: https://github.com/TimDettmers/bitsandbytes/issues\u001b[39m\u001b[38;5;124m'''\u001b[39m)\n\u001b[1;32m     28\u001b[0m lib\u001b[38;5;241m.\u001b[39mcadam32bit_grad_fp32 \u001b[38;5;66;03m# runs on an error if the library could not be found -> COMPILED_WITH_CUDA=False\u001b[39;00m\n",
      "\u001b[0;31mRuntimeError\u001b[0m: \n        CUDA Setup failed despite GPU being available. Please run the following command to get more information:\n\n        python -m bitsandbytes\n\n        Inspect the output of the command and see if you can locate CUDA libraries. You might need to add them\n        to your LD_LIBRARY_PATH. If you suspect a bug, please take the information from python -m bitsandbytes\n        and open an issue at: https://github.com/TimDettmers/bitsandbytes/issues",
      "\nThe above exception was the direct cause of the following exception:\n",
      "\u001b[0;31mRuntimeError\u001b[0m                              Traceback (most recent call last)",
      "Cell \u001b[0;32mIn[2], line 3\u001b[0m\n\u001b[1;32m      1\u001b[0m \u001b[38;5;28;01mfrom\u001b[39;00m \u001b[38;5;21;01munderthesea\u001b[39;00m \u001b[38;5;28;01mimport\u001b[39;00m ner\n\u001b[1;32m      2\u001b[0m text \u001b[38;5;241m=\u001b[39m \u001b[38;5;124m\"\u001b[39m\u001b[38;5;124mNguyễn Anh Đức là cầu thủ bóng đá hay hơn công Phượng\u001b[39m\u001b[38;5;124m\"\u001b[39m\n\u001b[0;32m----> 3\u001b[0m \u001b[43mner\u001b[49m\u001b[43m(\u001b[49m\u001b[43mtext\u001b[49m\u001b[43m,\u001b[49m\u001b[43m \u001b[49m\u001b[43mdeep\u001b[49m\u001b[38;5;241;43m=\u001b[39;49m\u001b[38;5;28;43;01mTrue\u001b[39;49;00m\u001b[43m)\u001b[49m\n",
      "File \u001b[0;32m~/miniconda3/envs/minh/lib/python3.9/site-packages/underthesea/pipeline/ner/__init__.py:42\u001b[0m, in \u001b[0;36mner\u001b[0;34m(sentence, format, deep)\u001b[0m\n\u001b[1;32m     40\u001b[0m     \u001b[38;5;28;01mreturn\u001b[39;00m result\n\u001b[1;32m     41\u001b[0m \u001b[38;5;28;01melse\u001b[39;00m:\n\u001b[0;32m---> 42\u001b[0m     \u001b[38;5;28;01mfrom\u001b[39;00m \u001b[38;5;21;01m.\u001b[39;00m\u001b[38;5;21;01mmodel_transformers\u001b[39;00m \u001b[38;5;28;01mimport\u001b[39;00m nlp\n\u001b[1;32m     43\u001b[0m     output \u001b[38;5;241m=\u001b[39m nlp(sentence)\n\u001b[1;32m     44\u001b[0m     \u001b[38;5;28;01mif\u001b[39;00m \u001b[38;5;28mlen\u001b[39m(output) \u001b[38;5;241m==\u001b[39m \u001b[38;5;241m0\u001b[39m:\n",
      "File \u001b[0;32m~/miniconda3/envs/minh/lib/python3.9/site-packages/underthesea/pipeline/ner/model_transformers.py:1\u001b[0m\n\u001b[0;32m----> 1\u001b[0m \u001b[38;5;28;01mfrom\u001b[39;00m \u001b[38;5;21;01mtransformers\u001b[39;00m \u001b[38;5;28;01mimport\u001b[39;00m pipeline, AutoModelForTokenClassification, AutoTokenizer\n\u001b[1;32m      3\u001b[0m model_repo \u001b[38;5;241m=\u001b[39m \u001b[38;5;124m\"\u001b[39m\u001b[38;5;124mundertheseanlp/vietnamese-ner-v1.4.0a2\u001b[39m\u001b[38;5;124m\"\u001b[39m\n\u001b[1;32m      4\u001b[0m model_fine_tuned \u001b[38;5;241m=\u001b[39m AutoModelForTokenClassification\u001b[38;5;241m.\u001b[39mfrom_pretrained(model_repo)\n",
      "File \u001b[0;32m<frozen importlib._bootstrap>:1055\u001b[0m, in \u001b[0;36m_handle_fromlist\u001b[0;34m(module, fromlist, import_, recursive)\u001b[0m\n",
      "File \u001b[0;32m~/miniconda3/envs/minh/lib/python3.9/site-packages/transformers/utils/import_utils.py:1174\u001b[0m, in \u001b[0;36m_LazyModule.__getattr__\u001b[0;34m(self, name)\u001b[0m\n\u001b[1;32m   1172\u001b[0m     value \u001b[38;5;241m=\u001b[39m \u001b[38;5;28mself\u001b[39m\u001b[38;5;241m.\u001b[39m_get_module(name)\n\u001b[1;32m   1173\u001b[0m \u001b[38;5;28;01melif\u001b[39;00m name \u001b[38;5;129;01min\u001b[39;00m \u001b[38;5;28mself\u001b[39m\u001b[38;5;241m.\u001b[39m_class_to_module\u001b[38;5;241m.\u001b[39mkeys():\n\u001b[0;32m-> 1174\u001b[0m     module \u001b[38;5;241m=\u001b[39m \u001b[38;5;28;43mself\u001b[39;49m\u001b[38;5;241;43m.\u001b[39;49m\u001b[43m_get_module\u001b[49m\u001b[43m(\u001b[49m\u001b[38;5;28;43mself\u001b[39;49m\u001b[38;5;241;43m.\u001b[39;49m\u001b[43m_class_to_module\u001b[49m\u001b[43m[\u001b[49m\u001b[43mname\u001b[49m\u001b[43m]\u001b[49m\u001b[43m)\u001b[49m\n\u001b[1;32m   1175\u001b[0m     value \u001b[38;5;241m=\u001b[39m \u001b[38;5;28mgetattr\u001b[39m(module, name)\n\u001b[1;32m   1176\u001b[0m \u001b[38;5;28;01melse\u001b[39;00m:\n",
      "File \u001b[0;32m~/miniconda3/envs/minh/lib/python3.9/site-packages/transformers/utils/import_utils.py:1186\u001b[0m, in \u001b[0;36m_LazyModule._get_module\u001b[0;34m(self, module_name)\u001b[0m\n\u001b[1;32m   1184\u001b[0m     \u001b[38;5;28;01mreturn\u001b[39;00m importlib\u001b[38;5;241m.\u001b[39mimport_module(\u001b[38;5;124m\"\u001b[39m\u001b[38;5;124m.\u001b[39m\u001b[38;5;124m\"\u001b[39m \u001b[38;5;241m+\u001b[39m module_name, \u001b[38;5;28mself\u001b[39m\u001b[38;5;241m.\u001b[39m\u001b[38;5;18m__name__\u001b[39m)\n\u001b[1;32m   1185\u001b[0m \u001b[38;5;28;01mexcept\u001b[39;00m \u001b[38;5;167;01mException\u001b[39;00m \u001b[38;5;28;01mas\u001b[39;00m e:\n\u001b[0;32m-> 1186\u001b[0m     \u001b[38;5;28;01mraise\u001b[39;00m \u001b[38;5;167;01mRuntimeError\u001b[39;00m(\n\u001b[1;32m   1187\u001b[0m         \u001b[38;5;124mf\u001b[39m\u001b[38;5;124m\"\u001b[39m\u001b[38;5;124mFailed to import \u001b[39m\u001b[38;5;132;01m{\u001b[39;00m\u001b[38;5;28mself\u001b[39m\u001b[38;5;241m.\u001b[39m\u001b[38;5;18m__name__\u001b[39m\u001b[38;5;132;01m}\u001b[39;00m\u001b[38;5;124m.\u001b[39m\u001b[38;5;132;01m{\u001b[39;00mmodule_name\u001b[38;5;132;01m}\u001b[39;00m\u001b[38;5;124m because of the following error (look up to see its\u001b[39m\u001b[38;5;124m\"\u001b[39m\n\u001b[1;32m   1188\u001b[0m         \u001b[38;5;124mf\u001b[39m\u001b[38;5;124m\"\u001b[39m\u001b[38;5;124m traceback):\u001b[39m\u001b[38;5;130;01m\\n\u001b[39;00m\u001b[38;5;132;01m{\u001b[39;00me\u001b[38;5;132;01m}\u001b[39;00m\u001b[38;5;124m\"\u001b[39m\n\u001b[1;32m   1189\u001b[0m     ) \u001b[38;5;28;01mfrom\u001b[39;00m \u001b[38;5;21;01me\u001b[39;00m\n",
      "\u001b[0;31mRuntimeError\u001b[0m: Failed to import transformers.pipelines because of the following error (look up to see its traceback):\n\n        CUDA Setup failed despite GPU being available. Please run the following command to get more information:\n\n        python -m bitsandbytes\n\n        Inspect the output of the command and see if you can locate CUDA libraries. You might need to add them\n        to your LD_LIBRARY_PATH. If you suspect a bug, please take the information from python -m bitsandbytes\n        and open an issue at: https://github.com/TimDettmers/bitsandbytes/issues"
     ]
    }
   ],
   "source": [
    "from underthesea import ner\n",
    "text = \"Nguyễn Anh Đức là cầu thủ bóng đá hay hơn công Phượng\"\n",
    "ner(text, deep=True)"
   ]
  },
  {
   "cell_type": "code",
   "execution_count": null,
   "id": "4be71218-aa8f-41a2-927b-9ecaecda16d6",
   "metadata": {},
   "outputs": [],
   "source": []
  }
 ],
 "metadata": {
  "kernelspec": {
   "display_name": "minh",
   "language": "python",
   "name": "minh"
  },
  "language_info": {
   "codemirror_mode": {
    "name": "ipython",
    "version": 3
   },
   "file_extension": ".py",
   "mimetype": "text/x-python",
   "name": "python",
   "nbconvert_exporter": "python",
   "pygments_lexer": "ipython3",
   "version": "3.9.18"
  }
 },
 "nbformat": 4,
 "nbformat_minor": 5
}
